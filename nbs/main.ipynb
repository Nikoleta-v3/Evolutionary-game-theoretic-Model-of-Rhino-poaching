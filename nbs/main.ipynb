{
 "cells": [
  {
   "cell_type": "markdown",
   "metadata": {},
   "source": [
    "# A notebook to carry out calculations"
   ]
  },
  {
   "cell_type": "code",
   "execution_count": 10,
   "metadata": {
    "collapsed": true
   },
   "outputs": [],
   "source": [
    "import sympy as sym\n",
    "import scipy as sp\n",
    "sym.init_printing()\n",
    "\n",
    "assert sym.__version__ == \"1.0\"\n",
    "assert sp.__version__ == \"0.19.0\""
   ]
  },
  {
   "cell_type": "markdown",
   "metadata": {},
   "source": [
    "Defining all our variables (with assumption that they are positive)."
   ]
  },
  {
   "cell_type": "code",
   "execution_count": 129,
   "metadata": {},
   "outputs": [],
   "source": [
    "r, s, x, theta_r, alpha, H, R_1, R_2, beta, gamma, F = sym.symbols(\"r, s, x, theta_r, alpha, H, R_1, R_2, beta, gamma, F\", positive=True)"
   ]
  },
  {
   "cell_type": "markdown",
   "metadata": {},
   "source": [
    "Defining the functions:"
   ]
  },
  {
   "cell_type": "code",
   "execution_count": 151,
   "metadata": {
    "collapsed": true
   },
   "outputs": [],
   "source": [
    "def theta(r, s, theta_r=theta_r):\n",
    "    \"\"\"\n",
    "    Return the quantity of horn gained:\n",
    "    \n",
    "    Parameters\n",
    "    ----------\n",
    "    \n",
    "    s: float between 0 and 1 - the proportion of poachers acting selectively\n",
    "    r: float between 0 and 1 - the proportion of horns devalued\n",
    "    theta_r: float between 0 and 1 - the value of dehorned horn\n",
    "    \"\"\"\n",
    "    return s * (1 - r) + (1 - s) * ((theta_r - 1) * r + 1)"
   ]
  },
  {
   "cell_type": "code",
   "execution_count": 152,
   "metadata": {},
   "outputs": [
    {
     "data": {
      "image/png": "[encoded data removed]",
      "text/latex": [
       "$$s \\left(- r + 1\\right) + \\left(- s + 1\\right) \\left(r \\left(\\theta_{r} - 1\\right) + 1\\right)$$"
      ],
      "text/plain": [
       "s⋅(-r + 1) + (-s + 1)⋅(r⋅(θᵣ - 1) + 1)"
      ]
     },
     "execution_count": 152,
     "metadata": {},
     "output_type": "execute_result"
    }
   ],
   "source": [
    "theta(r, s)"
   ]
  },
  {
   "cell_type": "code",
   "execution_count": 153,
   "metadata": {
    "collapsed": true
   },
   "outputs": [],
   "source": [
    "def phi(r, s, R_1=R_1, R_2=R_2):\n",
    "    \"\"\"\n",
    "    Returns the risk associated with poaching:\n",
    "    \n",
    "    Parameters\n",
    "    ----------\n",
    "    \n",
    "    R_1 < R_2 : constants associated with poaching\n",
    "    \"\"\"\n",
    "    return R_1 * s + R_2 * (1 - s)"
   ]
  },
  {
   "cell_type": "code",
   "execution_count": 154,
   "metadata": {},
   "outputs": [
    {
     "data": {
      "image/png": "[encoded data removed]",
      "text/latex": [
       "$$R_{1} s + R_{2} \\left(- s + 1\\right)$$"
      ],
      "text/plain": [
       "R₁⋅s + R₂⋅(-s + 1)"
      ]
     },
     "execution_count": 154,
     "metadata": {},
     "output_type": "execute_result"
    }
   ],
   "source": [
    "phi(r, s)"
   ]
  },
  {
   "cell_type": "code",
   "execution_count": 155,
   "metadata": {
    "collapsed": true
   },
   "outputs": [],
   "source": [
    "def psi(r, s):\n",
    "    \"\"\"\n",
    "    Returns the cost associated with finding a rhino\n",
    "    \"\"\"\n",
    "    return 1 - r * s"
   ]
  },
  {
   "cell_type": "code",
   "execution_count": 156,
   "metadata": {},
   "outputs": [
    {
     "data": {
      "image/png": "[encoded data removed]",
      "text/latex": [
       "$$- r s + 1$$"
      ],
      "text/plain": [
       "-r⋅s + 1"
      ]
     },
     "execution_count": 156,
     "metadata": {},
     "output_type": "execute_result"
    }
   ],
   "source": [
    "psi(r, s)"
   ]
  },
  {
   "cell_type": "code",
   "execution_count": 157,
   "metadata": {},
   "outputs": [],
   "source": [
    "def utility(s, x, H=H, r=r, theta_r=theta_r, R_1=R_1, R_2=R_2, F=F, alpha=alpha, beta=beta, gamma=gamma):\n",
    "    \"\"\"\n",
    "    The total utility for a strategy \n",
    "    sigma=(s, 1-s) in a population chi=(x, 1-x)\n",
    "    \"\"\"\n",
    "    selective_utility = theta(r, 1) * H * theta(r, x) ** (- alpha)\n",
    "    selective_utility += - phi(r, 1) * (1 - r) ** (- beta)\n",
    "    selective_utility += - psi(r, 1) * F * psi(r, x) ** (- gamma)\n",
    "    \n",
    "    indiscriminate_utility = theta(r, 0) * H * theta(r, x) ** (- alpha)\n",
    "    indiscriminate_utility += - phi(r, 0) * (1 - r) ** (- beta)\n",
    "    indiscriminate_utility += - psi(r, 0) * F * psi(r, x) ** (- gamma)\n",
    "\n",
    "    return s * selective_utility + (1 - s) * indiscriminate_utility"
   ]
  },
  {
   "cell_type": "code",
   "execution_count": 137,
   "metadata": {},
   "outputs": [
    {
     "data": {
      "image/png": "[encoded data removed]",
      "text/latex": [
       "$$- s \\left(- \\frac{F \\left(r - 1\\right)}{\\left(- r x + 1\\right)^{\\gamma}} + \\frac{H \\left(r - 1\\right)}{\\left(- x \\left(r - 1\\right) - \\left(x - 1\\right) \\left(r \\left(\\theta_{r} - 1\\right) + 1\\right)\\right)^{\\alpha}} + \\frac{R_{1}}{\\left(- r + 1\\right)^{\\beta}}\\right) + \\left(s - 1\\right) \\left(\\frac{F}{\\left(- r x + 1\\right)^{\\gamma}} - \\frac{H \\left(r \\left(\\theta_{r} - 1\\right) + 1\\right)}{\\left(- x \\left(r - 1\\right) - \\left(x - 1\\right) \\left(r \\left(\\theta_{r} - 1\\right) + 1\\right)\\right)^{\\alpha}} + \\frac{R_{2}}{\\left(- r + 1\\right)^{\\beta}}\\right)$$"
      ],
      "text/plain": [
       "    ⎛                      -γ                                                 \n",
       "- s⋅⎝- F⋅(r - 1)⋅(-r⋅x + 1)   + H⋅(r - 1)⋅(-x⋅(r - 1) - (x - 1)⋅(r⋅(θᵣ - 1) + \n",
       "\n",
       "   -α              -β⎞           ⎛            -γ                              \n",
       "1))   + R₁⋅(-r + 1)  ⎠ + (s - 1)⋅⎝F⋅(-r⋅x + 1)   - H⋅(r⋅(θᵣ - 1) + 1)⋅(-x⋅(r -\n",
       "\n",
       "                               -α              -β⎞\n",
       " 1) - (x - 1)⋅(r⋅(θᵣ - 1) + 1))   + R₂⋅(-r + 1)  ⎠"
      ]
     },
     "execution_count": 137,
     "metadata": {},
     "output_type": "execute_result"
    }
   ],
   "source": [
    "utility(s, x).simplify()"
   ]
  },
  {
   "cell_type": "markdown",
   "metadata": {},
   "source": [
    "Condition for $s=1$ to be stable:"
   ]
  },
  {
   "cell_type": "code",
   "execution_count": 161,
   "metadata": {},
   "outputs": [
    {
     "data": {
      "image/png": "[encoded data removed]",
      "text/latex": [
       "$$\\frac{F r}{\\left(- r + 1\\right)^{\\gamma}} - \\frac{H r \\theta_{r}}{\\left(- r + 1\\right)^{\\alpha}} - \\frac{R_{1}}{\\left(- r + 1\\right)^{\\beta}} + \\frac{R_{2}}{\\left(- r + 1\\right)^{\\beta}} = 0$$"
      ],
      "text/plain": [
       "            -γ                  -α              -β              -β    \n",
       "F⋅r⋅(-r + 1)   - H⋅r⋅θᵣ⋅(-r + 1)   - R₁⋅(-r + 1)   + R₂⋅(-r + 1)   = 0"
      ]
     },
     "execution_count": 161,
     "metadata": {},
     "output_type": "execute_result"
    }
   ],
   "source": [
    "expr = utility(1, 1) - utility(0, 1)\n",
    "stable_selective_condition = sym.Eq(expr.expand(), 0)\n",
    "stable_selective_condition"
   ]
  },
  {
   "cell_type": "markdown",
   "metadata": {},
   "source": [
    "Condition for $s=0$ to be stable:"
   ]
  },
  {
   "cell_type": "code",
   "execution_count": 164,
   "metadata": {},
   "outputs": [
    {
     "data": {
      "image/png": "[encoded data removed]",
      "text/latex": [
       "$$- F r + \\frac{H r \\theta_{r}}{\\left(r \\theta_{r} - r + 1\\right)^{\\alpha}} + \\frac{R_{1}}{\\left(- r + 1\\right)^{\\beta}} - \\frac{R_{2}}{\\left(- r + 1\\right)^{\\beta}} = 0$$"
      ],
      "text/plain": [
       "                            -α              -β              -β    \n",
       "-F⋅r + H⋅r⋅θᵣ⋅(r⋅θᵣ - r + 1)   + R₁⋅(-r + 1)   - R₂⋅(-r + 1)   = 0"
      ]
     },
     "execution_count": 164,
     "metadata": {},
     "output_type": "execute_result"
    }
   ],
   "source": [
    "expr = utility(0, 0) - utility(1, 0)\n",
    "stable_indiscrimate_condition = sym.Eq(expr.expand(), 0)\n",
    "stable_indiscrimate_condition"
   ]
  },
  {
   "cell_type": "markdown",
   "metadata": {},
   "source": [
    "Limit behaviour as $r\\to 1$:"
   ]
  },
  {
   "cell_type": "code",
   "execution_count": 165,
   "metadata": {},
   "outputs": [
    {
     "data": {
      "image/png": "[encoded data removed]",
      "text/latex": [
       "$$\\infty \\operatorname{sign}{\\left (R_{1} - R_{2} \\right )}$$"
      ],
      "text/plain": [
       "∞⋅sign(R₁ - R₂)"
      ]
     },
     "execution_count": 165,
     "metadata": {},
     "output_type": "execute_result"
    }
   ],
   "source": [
    "sym.limit(expr, r, 1)"
   ]
  },
  {
   "cell_type": "markdown",
   "metadata": {},
   "source": [
    "Condition for $1>s^*>0$ to be stable:"
   ]
  },
  {
   "cell_type": "code",
   "execution_count": 166,
   "metadata": {},
   "outputs": [
    {
     "data": {
      "image/png": "[encoded data removed]",
      "text/latex": [
       "$$\\frac{F r}{\\left(- r s + 1\\right)^{\\gamma}} - \\frac{H r \\theta_{r}}{\\left(- r s \\theta_{r} + r \\theta_{r} - r + 1\\right)^{\\alpha}} - \\frac{R_{1}}{\\left(- r + 1\\right)^{\\beta}} + \\frac{R_{2}}{\\left(- r + 1\\right)^{\\beta}} = 0$$"
      ],
      "text/plain": [
       "              -γ                                  -α              -β          \n",
       "F⋅r⋅(-r⋅s + 1)   - H⋅r⋅θᵣ⋅(-r⋅s⋅θᵣ + r⋅θᵣ - r + 1)   - R₁⋅(-r + 1)   + R₂⋅(-r \n",
       "\n",
       "    -β    \n",
       "+ 1)   = 0"
      ]
     },
     "execution_count": 166,
     "metadata": {},
     "output_type": "execute_result"
    }
   ],
   "source": [
    "expr = utility(1, s) - utility(0, s)\n",
    "stable_mixed_condition = sym.Eq(expr.simplify(), 0)\n",
    "stable_mixed_condition"
   ]
  },
  {
   "cell_type": "markdown",
   "metadata": {},
   "source": [
    "In preparation for numerical solution: let's see what the derivaties of the lhs of that are:"
   ]
  },
  {
   "cell_type": "code",
   "execution_count": 167,
   "metadata": {},
   "outputs": [
    {
     "data": {
      "image/png": "[encoded data removed]",
      "text/latex": [
       "$$\\frac{F \\gamma r \\left(r - 1\\right)}{\\left(- r s + 1\\right) \\left(- r s + 1\\right)^{\\gamma}} + \\frac{F \\gamma r}{\\left(- r s + 1\\right) \\left(- r s + 1\\right)^{\\gamma}} - \\frac{H \\alpha \\left(- r + 1\\right) \\left(- r \\left(\\theta_{r} - 1\\right) - r\\right)}{\\left(s \\left(- r + 1\\right) + \\left(- s + 1\\right) \\left(r \\left(\\theta_{r} - 1\\right) + 1\\right)\\right) \\left(s \\left(- r + 1\\right) + \\left(- s + 1\\right) \\left(r \\left(\\theta_{r} - 1\\right) + 1\\right)\\right)^{\\alpha}} + \\frac{H \\alpha \\left(- r \\left(\\theta_{r} - 1\\right) - r\\right) \\left(r \\left(\\theta_{r} - 1\\right) + 1\\right)}{\\left(s \\left(- r + 1\\right) + \\left(- s + 1\\right) \\left(r \\left(\\theta_{r} - 1\\right) + 1\\right)\\right) \\left(s \\left(- r + 1\\right) + \\left(- s + 1\\right) \\left(r \\left(\\theta_{r} - 1\\right) + 1\\right)\\right)^{\\alpha}}$$"
      ],
      "text/plain": [
       "                        -γ                   -γ                               \n",
       "F⋅γ⋅r⋅(r - 1)⋅(-r⋅s + 1)     F⋅γ⋅r⋅(-r⋅s + 1)     H⋅α⋅(-r + 1)⋅(-r⋅(θᵣ - 1) - \n",
       "────────────────────────── + ────────────────── - ────────────────────────────\n",
       "         -r⋅s + 1                 -r⋅s + 1                          s⋅(-r + 1)\n",
       "\n",
       "                                           -α                                 \n",
       "r)⋅(s⋅(-r + 1) + (-s + 1)⋅(r⋅(θᵣ - 1) + 1))     H⋅α⋅(-r⋅(θᵣ - 1) - r)⋅(r⋅(θᵣ -\n",
       "───────────────────────────────────────────── + ──────────────────────────────\n",
       " + (-s + 1)⋅(r⋅(θᵣ - 1) + 1)                                          s⋅(-r + \n",
       "\n",
       "                                                 -α\n",
       " 1) + 1)⋅(s⋅(-r + 1) + (-s + 1)⋅(r⋅(θᵣ - 1) + 1))  \n",
       "───────────────────────────────────────────────────\n",
       "1) + (-s + 1)⋅(r⋅(θᵣ - 1) + 1)                     "
      ]
     },
     "execution_count": 167,
     "metadata": {},
     "output_type": "execute_result"
    }
   ],
   "source": [
    "sym.diff(expr, s)"
   ]
  },
  {
   "cell_type": "code",
   "execution_count": 168,
   "metadata": {},
   "outputs": [
    {
     "data": {
      "image/png": "[encoded data removed]",
      "text/latex": [
       "$$r^{2} \\left(\\frac{F \\gamma^{2} \\left(r - 1\\right)}{\\left(- r s + 1\\right)^{\\gamma} \\left(r s - 1\\right)^{2}} + \\frac{F \\gamma^{2}}{\\left(- r s + 1\\right)^{\\gamma} \\left(r s - 1\\right)^{2}} + \\frac{F \\gamma \\left(r - 1\\right)}{\\left(- r s + 1\\right)^{\\gamma} \\left(r s - 1\\right)^{2}} + \\frac{F \\gamma}{\\left(- r s + 1\\right)^{\\gamma} \\left(r s - 1\\right)^{2}} - \\frac{H \\alpha^{2} \\theta_{r}^{2} \\left(r - 1\\right)}{\\left(- s \\left(r - 1\\right) + \\left(s - 1\\right) \\left(r \\left(\\theta_{r} - 1\\right) + 1\\right)\\right)^{\\alpha} \\left(s \\left(r - 1\\right) + \\left(s - 1\\right) \\left(r \\left(\\theta_{r} - 1\\right) + 1\\right)\\right)^{2}} - \\frac{H \\alpha^{2} \\theta_{r}^{2} \\left(r \\left(\\theta_{r} - 1\\right) + 1\\right)}{\\left(- s \\left(r - 1\\right) + \\left(s - 1\\right) \\left(r \\left(\\theta_{r} - 1\\right) + 1\\right)\\right)^{\\alpha} \\left(s \\left(r - 1\\right) + \\left(s - 1\\right) \\left(r \\left(\\theta_{r} - 1\\right) + 1\\right)\\right)^{2}} - \\frac{H \\alpha \\theta_{r}^{2} \\left(r - 1\\right)}{\\left(- s \\left(r - 1\\right) + \\left(s - 1\\right) \\left(r \\left(\\theta_{r} - 1\\right) + 1\\right)\\right)^{\\alpha} \\left(s \\left(r - 1\\right) + \\left(s - 1\\right) \\left(r \\left(\\theta_{r} - 1\\right) + 1\\right)\\right)^{2}} - \\frac{H \\alpha \\theta_{r}^{2} \\left(r \\left(\\theta_{r} - 1\\right) + 1\\right)}{\\left(- s \\left(r - 1\\right) + \\left(s - 1\\right) \\left(r \\left(\\theta_{r} - 1\\right) + 1\\right)\\right)^{\\alpha} \\left(s \\left(r - 1\\right) + \\left(s - 1\\right) \\left(r \\left(\\theta_{r} - 1\\right) + 1\\right)\\right)^{2}}\\right)$$"
      ],
      "text/plain": [
       "   ⎛   2                   -γ      2           -γ                         -γ  \n",
       " 2 ⎜F⋅γ ⋅(r - 1)⋅(-r⋅s + 1)     F⋅γ ⋅(-r⋅s + 1)     F⋅γ⋅(r - 1)⋅(-r⋅s + 1)    \n",
       "r ⋅⎜───────────────────────── + ───────────────── + ──────────────────────── +\n",
       "   ⎜                 2                       2                      2         \n",
       "   ⎝        (r⋅s - 1)               (r⋅s - 1)              (r⋅s - 1)          \n",
       "\n",
       "               -γ      2   2                                          -α      \n",
       " F⋅γ⋅(-r⋅s + 1)     H⋅α ⋅θᵣ ⋅(-(s⋅(r - 1) + (s - 1)⋅(r⋅(θᵣ - 1) + 1)))  ⋅(r - \n",
       " ──────────────── - ──────────────────────────────────────────────────────────\n",
       "             2                                                      2         \n",
       "    (r⋅s - 1)                 (s⋅(r - 1) + (s - 1)⋅(r⋅(θᵣ - 1) + 1))          \n",
       "\n",
       "        2   2                                          -α                     \n",
       "1)   H⋅α ⋅θᵣ ⋅(-(s⋅(r - 1) + (s - 1)⋅(r⋅(θᵣ - 1) + 1)))  ⋅(r⋅(θᵣ - 1) + 1)   H\n",
       "── - ───────────────────────────────────────────────────────────────────── - ─\n",
       "                                                          2                   \n",
       "                    (s⋅(r - 1) + (s - 1)⋅(r⋅(θᵣ - 1) + 1))                    \n",
       "\n",
       "     2                                          -α                 2          \n",
       "⋅α⋅θᵣ ⋅(-(s⋅(r - 1) + (s - 1)⋅(r⋅(θᵣ - 1) + 1)))  ⋅(r - 1)   H⋅α⋅θᵣ ⋅(-(s⋅(r -\n",
       "────────────────────────────────────────────────────────── - ─────────────────\n",
       "                                               2                              \n",
       "         (s⋅(r - 1) + (s - 1)⋅(r⋅(θᵣ - 1) + 1))                            (s⋅\n",
       "\n",
       "                                -α                 ⎞\n",
       " 1) + (s - 1)⋅(r⋅(θᵣ - 1) + 1)))  ⋅(r⋅(θᵣ - 1) + 1)⎟\n",
       "───────────────────────────────────────────────────⎟\n",
       "                                   2               ⎟\n",
       "(r - 1) + (s - 1)⋅(r⋅(θᵣ - 1) + 1))                ⎠"
      ]
     },
     "execution_count": 168,
     "metadata": {},
     "output_type": "execute_result"
    }
   ],
   "source": [
    "sym.diff(expr, s, 2)"
   ]
  }
 ],
 "metadata": {
  "anaconda-cloud": {},
  "kernelspec": {
   "display_name": "Python [conda env:rhino]",
   "language": "python",
   "name": "conda-env-rhino-py"
  },
  "language_info": {
   "codemirror_mode": {
    "name": "ipython",
    "version": 3
   },
   "file_extension": ".py",
   "mimetype": "text/x-python",
   "name": "python",
   "nbconvert_exporter": "python",
   "pygments_lexer": "ipython3",
   "version": "3.6.1"
  }
 },
 "nbformat": 4,
 "nbformat_minor": 2
}
