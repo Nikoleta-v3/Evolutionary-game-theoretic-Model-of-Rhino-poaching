{
 "cells": [
  {
   "cell_type": "markdown",
   "metadata": {},
   "source": [
    "# A notebook to carry out calculations"
   ]
  },
  {
   "cell_type": "code",
   "execution_count": 1,
   "metadata": {
    "collapsed": true
   },
   "outputs": [],
   "source": [
    "import sympy as sym\n",
    "import scipy as sp\n",
    "import numpy as np\n",
    "sym.init_printing()\n",
    "\n",
    "import imp\n",
    "tools = imp.load_source('tools', '../tools.py')\n",
    "\n",
    "assert sym.__version__ == \"1.0\"\n",
    "assert sp.__version__ == \"0.19.0\"\n",
    "assert np.__version__ == \"1.12.1\""
   ]
  },
  {
   "cell_type": "code",
   "execution_count": 2,
   "metadata": {
    "collapsed": true
   },
   "outputs": [],
   "source": [
    "#import matplotlib\n",
    "import matplotlib.pyplot as plt\n",
    "\n",
    "%matplotlib inline"
   ]
  },
  {
   "cell_type": "code",
   "execution_count": 33,
   "metadata": {
    "collapsed": true
   },
   "outputs": [],
   "source": [
    "from scipy.optimize import brentq"
   ]
  },
  {
   "cell_type": "markdown",
   "metadata": {},
   "source": [
    "Defining all our variables (with assumption that they are positive)."
   ]
  },
  {
   "cell_type": "code",
   "execution_count": 3,
   "metadata": {
    "collapsed": false
   },
   "outputs": [],
   "source": [
    "r, s, x, theta_r, alpha, H, beta, gamma, F = sym.symbols(\"r, s, x, theta_r, alpha, \\\n",
    "                                                          H, beta, gamma, F\", positive=True)"
   ]
  },
  {
   "cell_type": "markdown",
   "metadata": {},
   "source": [
    "The functions:"
   ]
  },
  {
   "cell_type": "code",
   "execution_count": 4,
   "metadata": {
    "collapsed": false
   },
   "outputs": [
    {
     "data": {
      "image/png": "[encoded data removed]",
      "text/latex": [
       "$$s \\left(- r + 1\\right) + \\left(- s + 1\\right) \\left(r \\left(\\theta_{r} - 1\\right) + 1\\right)$$"
      ],
      "text/plain": [
       "s⋅(-r + 1) + (-s + 1)⋅(r⋅(θᵣ - 1) + 1)"
      ]
     },
     "execution_count": 4,
     "metadata": {},
     "output_type": "execute_result"
    }
   ],
   "source": [
    "tools.theta(r, s)"
   ]
  },
  {
   "cell_type": "code",
   "execution_count": 5,
   "metadata": {
    "collapsed": false
   },
   "outputs": [
    {
     "data": {
      "image/png": "[encoded data removed]",
      "text/latex": [
       "$$- r s + 1$$"
      ],
      "text/plain": [
       "-r⋅s + 1"
      ]
     },
     "execution_count": 5,
     "metadata": {},
     "output_type": "execute_result"
    }
   ],
   "source": [
    "tools.psi(r, s)"
   ]
  },
  {
   "cell_type": "code",
   "execution_count": 6,
   "metadata": {
    "collapsed": false
   },
   "outputs": [
    {
     "data": {
      "image/png": "[encoded data removed]",
      "text/latex": [
       "$$F \\left(\\frac{r s}{\\left(- r + 1\\right)^{\\beta} \\left(- r x + 1\\right)^{\\gamma}} - \\frac{1}{\\left(- r + 1\\right)^{\\beta} \\left(- r x + 1\\right)^{\\gamma}}\\right) + H \\left(- \\frac{r s \\theta_{r}}{\\left(- r \\theta_{r} x + r \\theta_{r} - r + 1\\right)^{\\alpha}} + \\frac{r \\theta_{r}}{\\left(- r \\theta_{r} x + r \\theta_{r} - r + 1\\right)^{\\alpha}} - \\frac{r}{\\left(- r \\theta_{r} x + r \\theta_{r} - r + 1\\right)^{\\alpha}} + \\left(- r \\theta_{r} x + r \\theta_{r} - r + 1\\right)^{- \\alpha}\\right)$$"
      ],
      "text/plain": [
       "  ⎛            -β           -γ           -β           -γ⎞     ⎛               \n",
       "F⋅⎝r⋅s⋅(-r + 1)  ⋅(-r⋅x + 1)   - (-r + 1)  ⋅(-r⋅x + 1)  ⎠ + H⋅⎝- r⋅s⋅θᵣ⋅(-r⋅θᵣ\n",
       "\n",
       "                  -α                                -α                        \n",
       "⋅x + r⋅θᵣ - r + 1)   + r⋅θᵣ⋅(-r⋅θᵣ⋅x + r⋅θᵣ - r + 1)   - r⋅(-r⋅θᵣ⋅x + r⋅θᵣ - r\n",
       "\n",
       "     -α                           -α⎞\n",
       " + 1)   + (-r⋅θᵣ⋅x + r⋅θᵣ - r + 1)  ⎠"
      ]
     },
     "execution_count": 6,
     "metadata": {},
     "output_type": "execute_result"
    }
   ],
   "source": [
    "# the utility\n",
    "tools.utility(s, x).expand().collect(F).collect(H).collect(r)"
   ]
  },
  {
   "cell_type": "markdown",
   "metadata": {},
   "source": [
    "# Condition for $s=1$ to be stable:"
   ]
  },
  {
   "cell_type": "code",
   "execution_count": 7,
   "metadata": {
    "collapsed": false
   },
   "outputs": [
    {
     "data": {
      "image/png": "[encoded data removed]",
      "text/latex": [
       "$$\\frac{F r}{\\left(- r + 1\\right)^{\\beta} \\left(- r + 1\\right)^{\\gamma}} - \\frac{H r \\theta_{r}}{\\left(- r + 1\\right)^{\\alpha}} = 0$$"
      ],
      "text/plain": [
       "            -β         -γ                  -α    \n",
       "F⋅r⋅(-r + 1)  ⋅(-r + 1)   - H⋅r⋅θᵣ⋅(-r + 1)   = 0"
      ]
     },
     "execution_count": 7,
     "metadata": {},
     "output_type": "execute_result"
    }
   ],
   "source": [
    "expr = tools.utility(1, 1) - tools.utility(0, 1)\n",
    "stable_selective_condition = sym.Eq(expr.expand(), 0)\n",
    "stable_selective_condition"
   ]
  },
  {
   "cell_type": "code",
   "execution_count": 8,
   "metadata": {
    "collapsed": false
   },
   "outputs": [
    {
     "data": {
      "image/png": "[encoded data removed]",
      "text/latex": [
       "$$\\frac{F r}{\\left(- r + 1\\right)^{\\beta} \\left(- r + 1\\right)^{\\gamma}} - \\frac{H r \\theta_{r}}{\\left(- r + 1\\right)^{\\alpha}}$$"
      ],
      "text/plain": [
       "            -β         -γ                  -α\n",
       "F⋅r⋅(-r + 1)  ⋅(-r + 1)   - H⋅r⋅θᵣ⋅(-r + 1)  "
      ]
     },
     "execution_count": 8,
     "metadata": {},
     "output_type": "execute_result"
    }
   ],
   "source": [
    "expr.simplify()"
   ]
  },
  {
   "cell_type": "code",
   "execution_count": 9,
   "metadata": {
    "collapsed": false
   },
   "outputs": [
    {
     "data": {
      "image/png": "[encoded data removed]",
      "text/latex": [
       "$$F - H \\theta_{r}$$"
      ],
      "text/plain": [
       "F - H⋅θᵣ"
      ]
     },
     "execution_count": 9,
     "metadata": {},
     "output_type": "execute_result"
    }
   ],
   "source": [
    "(expr.simplify().collect(r) / r).subs({r:0})"
   ]
  },
  {
   "cell_type": "code",
   "execution_count": 10,
   "metadata": {
    "collapsed": false
   },
   "outputs": [
    {
     "data": {
      "image/png": "[encoded data removed]",
      "text/latex": [
       "$$\\frac{F}{\\left(- r + 1\\right)^{\\beta} \\left(- r + 1\\right)^{\\gamma}} - \\frac{H \\theta_{r}}{\\left(- r + 1\\right)^{\\alpha}}$$"
      ],
      "text/plain": [
       "          -β         -γ                -α\n",
       "F⋅(-r + 1)  ⋅(-r + 1)   - H⋅θᵣ⋅(-r + 1)  "
      ]
     },
     "execution_count": 10,
     "metadata": {},
     "output_type": "execute_result"
    }
   ],
   "source": [
    "(expr.simplify().collect(r) / r)"
   ]
  },
  {
   "cell_type": "code",
   "execution_count": 11,
   "metadata": {
    "collapsed": false
   },
   "outputs": [
    {
     "data": {
      "image/png": "[encoded data removed]",
      "text/latex": [
       "$$F - H \\theta_{r}$$"
      ],
      "text/plain": [
       "F - H⋅θᵣ"
      ]
     },
     "execution_count": 11,
     "metadata": {},
     "output_type": "execute_result"
    }
   ],
   "source": [
    "(expr.simplify().collect(r) / r).subs({r:0})"
   ]
  },
  {
   "cell_type": "markdown",
   "metadata": {},
   "source": [
    "numerical example\n",
    "-------------------"
   ]
  },
  {
   "cell_type": "code",
   "execution_count": 12,
   "metadata": {
    "collapsed": false
   },
   "outputs": [],
   "source": [
    "# some values for the parameters\n",
    "gamma_num = 1\n",
    "beta_num = .95\n",
    "alpha_num = .95 \n",
    "theta_r_num = .2  # Quantity of horn in devalued Rhino\n",
    "F_num = 10\n",
    "a1_num = 7\n",
    "H_num = 100"
   ]
  },
  {
   "cell_type": "code",
   "execution_count": 13,
   "metadata": {
    "collapsed": false
   },
   "outputs": [],
   "source": [
    "variables = {gamma: gamma_num, beta: beta_num, alpha: alpha_num, \n",
    "             theta_r:theta_r_num, F: F_num, H: H_num, r:.97}"
   ]
  },
  {
   "cell_type": "code",
   "execution_count": 14,
   "metadata": {
    "collapsed": true
   },
   "outputs": [],
   "source": [
    "strategies = np.linspace(0, 0.99, 100)"
   ]
  },
  {
   "cell_type": "code",
   "execution_count": 15,
   "metadata": {
    "collapsed": false
   },
   "outputs": [
    {
     "data": {
      "image/png": "[encoded data removed]",
      "text/plain": [
       "<matplotlib.figure.Figure at 0x7f709becf8d0>"
      ]
     },
     "metadata": {},
     "output_type": "display_data"
    }
   ],
   "source": [
    "utilities = [tools.utility(s, 1).subs(variables) for s in strategies]\n",
    "\n",
    "plt.plot(strategies, utilities)\n",
    "\n",
    "plt.xlabel(\"$s$\"); plt.ylabel(\"$u(s, 1-s), (1, 0))$\")\n",
    "plt.show()"
   ]
  },
  {
   "cell_type": "markdown",
   "metadata": {},
   "source": [
    "$s = 1$ is stable as $s=1$ has the highest utility in the population."
   ]
  },
  {
   "cell_type": "markdown",
   "metadata": {},
   "source": [
    "# Condition for $s=0$ to be stable:"
   ]
  },
  {
   "cell_type": "code",
   "execution_count": 16,
   "metadata": {
    "collapsed": false
   },
   "outputs": [
    {
     "data": {
      "image/png": "[encoded data removed]",
      "text/latex": [
       "$$- \\frac{F r}{\\left(- r + 1\\right)^{\\beta}} + \\frac{H r \\theta_{r}}{\\left(r \\theta_{r} - r + 1\\right)^{\\alpha}} = 0$$"
      ],
      "text/plain": [
       "              -β                        -α    \n",
       "- F⋅r⋅(-r + 1)   + H⋅r⋅θᵣ⋅(r⋅θᵣ - r + 1)   = 0"
      ]
     },
     "execution_count": 16,
     "metadata": {},
     "output_type": "execute_result"
    }
   ],
   "source": [
    "expr = tools.utility(0, 0) - tools.utility(1, 0)\n",
    "stable_indiscrimate_condition = sym.Eq(expr.expand(), 0)\n",
    "stable_indiscrimate_condition"
   ]
  },
  {
   "cell_type": "code",
   "execution_count": 17,
   "metadata": {
    "collapsed": false
   },
   "outputs": [
    {
     "data": {
      "image/png": "[encoded data removed]",
      "text/latex": [
       "$$- \\frac{F}{\\left(- r + 1\\right)^{\\beta}} + \\frac{H \\theta_{r}}{\\left(r \\theta_{r} - r + 1\\right)^{\\alpha}}$$"
      ],
      "text/plain": [
       "            -β                      -α\n",
       "- F⋅(-r + 1)   + H⋅θᵣ⋅(r⋅θᵣ - r + 1)  "
      ]
     },
     "execution_count": 17,
     "metadata": {},
     "output_type": "execute_result"
    }
   ],
   "source": [
    "(expr.simplify().collect(r) / r)"
   ]
  },
  {
   "cell_type": "code",
   "execution_count": 18,
   "metadata": {
    "collapsed": false
   },
   "outputs": [
    {
     "data": {
      "image/png": "[encoded data removed]",
      "text/latex": [
       "$$- F + H \\theta_{r}$$"
      ],
      "text/plain": [
       "-F + H⋅θᵣ"
      ]
     },
     "execution_count": 18,
     "metadata": {},
     "output_type": "execute_result"
    }
   ],
   "source": [
    "(expr.simplify().collect(r) / r).subs({r:0})"
   ]
  },
  {
   "cell_type": "markdown",
   "metadata": {},
   "source": [
    "Limit behaviour as $r\\to 1$:"
   ]
  },
  {
   "cell_type": "code",
   "execution_count": 19,
   "metadata": {
    "collapsed": false
   },
   "outputs": [
    {
     "data": {
      "image/png": "[encoded data removed]",
      "text/latex": [
       "$$-\\infty$$"
      ],
      "text/plain": [
       "-∞"
      ]
     },
     "execution_count": 19,
     "metadata": {},
     "output_type": "execute_result"
    }
   ],
   "source": [
    "sym.limit(expr, r, 1)"
   ]
  },
  {
   "cell_type": "markdown",
   "metadata": {},
   "source": [
    "# numerical example"
   ]
  },
  {
   "cell_type": "code",
   "execution_count": 20,
   "metadata": {
    "collapsed": false
   },
   "outputs": [
    {
     "data": {
      "image/png": "[encoded data removed]",
      "text/plain": [
       "<matplotlib.figure.Figure at 0x7f70989a2860>"
      ]
     },
     "metadata": {},
     "output_type": "display_data"
    }
   ],
   "source": [
    "utilities = [tools.utility(s, 0).subs(variables) for s in strategies]\n",
    "\n",
    "plt.plot(strategies, utilities)\n",
    "\n",
    "plt.xlabel(\"$s$\"); plt.ylabel(\"$u(s, 1-s), (0, 1))$\")\n",
    "plt.show()"
   ]
  },
  {
   "cell_type": "markdown",
   "metadata": {},
   "source": [
    "$s = 0$ is not stable as $s=1$ has the highest utility in the population."
   ]
  },
  {
   "cell_type": "markdown",
   "metadata": {},
   "source": [
    "# Condition for $1>s^*>0$ to be stable:"
   ]
  },
  {
   "cell_type": "code",
   "execution_count": 21,
   "metadata": {
    "collapsed": false
   },
   "outputs": [
    {
     "data": {
      "image/png": "[encoded data removed]",
      "text/latex": [
       "$$\\frac{F r}{\\left(- r + 1\\right)^{\\beta} \\left(- r s + 1\\right)^{\\gamma}} - \\frac{H r \\theta_{r}}{\\left(- r s \\theta_{r} + r \\theta_{r} - r + 1\\right)^{\\alpha}} = 0$$"
      ],
      "text/plain": [
       "            -β           -γ                                  -α    \n",
       "F⋅r⋅(-r + 1)  ⋅(-r⋅s + 1)   - H⋅r⋅θᵣ⋅(-r⋅s⋅θᵣ + r⋅θᵣ - r + 1)   = 0"
      ]
     },
     "execution_count": 21,
     "metadata": {},
     "output_type": "execute_result"
    }
   ],
   "source": [
    "expr = tools.utility(1, s) - tools.utility(0, s)\n",
    "stable_mixed_condition = sym.Eq(expr.simplify(), 0)\n",
    "stable_mixed_condition"
   ]
  },
  {
   "cell_type": "markdown",
   "metadata": {},
   "source": [
    "In preparation for numerical solution: let's see what the derivaties of the lhs of that are:"
   ]
  },
  {
   "cell_type": "code",
   "execution_count": 22,
   "metadata": {
    "collapsed": false
   },
   "outputs": [
    {
     "data": {
      "image/png": "[encoded data removed]",
      "text/latex": [
       "$$\\frac{F \\gamma r \\left(r - 1\\right)}{\\left(- r + 1\\right)^{\\beta} \\left(- r s + 1\\right) \\left(- r s + 1\\right)^{\\gamma}} + \\frac{F \\gamma r}{\\left(- r + 1\\right)^{\\beta} \\left(- r s + 1\\right) \\left(- r s + 1\\right)^{\\gamma}} - \\frac{H \\alpha \\left(- r + 1\\right) \\left(- r \\left(\\theta_{r} - 1\\right) - r\\right)}{\\left(s \\left(- r + 1\\right) + \\left(- s + 1\\right) \\left(r \\left(\\theta_{r} - 1\\right) + 1\\right)\\right) \\left(s \\left(- r + 1\\right) + \\left(- s + 1\\right) \\left(r \\left(\\theta_{r} - 1\\right) + 1\\right)\\right)^{\\alpha}} + \\frac{H \\alpha \\left(- r \\left(\\theta_{r} - 1\\right) - r\\right) \\left(r \\left(\\theta_{r} - 1\\right) + 1\\right)}{\\left(s \\left(- r + 1\\right) + \\left(- s + 1\\right) \\left(r \\left(\\theta_{r} - 1\\right) + 1\\right)\\right) \\left(s \\left(- r + 1\\right) + \\left(- s + 1\\right) \\left(r \\left(\\theta_{r} - 1\\right) + 1\\right)\\right)^{\\alpha}}$$"
      ],
      "text/plain": [
       "              -β                   -γ                 -β           -γ         \n",
       "F⋅γ⋅r⋅(-r + 1)  ⋅(r - 1)⋅(-r⋅s + 1)     F⋅γ⋅r⋅(-r + 1)  ⋅(-r⋅s + 1)     H⋅α⋅(-\n",
       "───────────────────────────────────── + ───────────────────────────── - ──────\n",
       "               -r⋅s + 1                            -r⋅s + 1                   \n",
       "\n",
       "                                                                 -α           \n",
       "r + 1)⋅(-r⋅(θᵣ - 1) - r)⋅(s⋅(-r + 1) + (-s + 1)⋅(r⋅(θᵣ - 1) + 1))     H⋅α⋅(-r⋅\n",
       "─────────────────────────────────────────────────────────────────── + ────────\n",
       "            s⋅(-r + 1) + (-s + 1)⋅(r⋅(θᵣ - 1) + 1)                            \n",
       "\n",
       "                                                                       -α\n",
       "(θᵣ - 1) - r)⋅(r⋅(θᵣ - 1) + 1)⋅(s⋅(-r + 1) + (-s + 1)⋅(r⋅(θᵣ - 1) + 1))  \n",
       "─────────────────────────────────────────────────────────────────────────\n",
       "              s⋅(-r + 1) + (-s + 1)⋅(r⋅(θᵣ - 1) + 1)                     "
      ]
     },
     "execution_count": 22,
     "metadata": {},
     "output_type": "execute_result"
    }
   ],
   "source": [
    "sym.diff(expr, s)"
   ]
  },
  {
   "cell_type": "code",
   "execution_count": 23,
   "metadata": {
    "collapsed": false
   },
   "outputs": [
    {
     "data": {
      "image/png": "[encoded data removed]",
      "text/latex": [
       "$$r^{2} \\left(\\frac{F \\gamma^{2} \\left(r - 1\\right)}{\\left(- r + 1\\right)^{\\beta} \\left(- r s + 1\\right)^{\\gamma} \\left(r s - 1\\right)^{2}} + \\frac{F \\gamma^{2}}{\\left(- r + 1\\right)^{\\beta} \\left(- r s + 1\\right)^{\\gamma} \\left(r s - 1\\right)^{2}} + \\frac{F \\gamma \\left(r - 1\\right)}{\\left(- r + 1\\right)^{\\beta} \\left(- r s + 1\\right)^{\\gamma} \\left(r s - 1\\right)^{2}} + \\frac{F \\gamma}{\\left(- r + 1\\right)^{\\beta} \\left(- r s + 1\\right)^{\\gamma} \\left(r s - 1\\right)^{2}} - \\frac{H \\alpha^{2} \\theta_{r}^{2} \\left(r - 1\\right)}{\\left(- s \\left(r - 1\\right) + \\left(s - 1\\right) \\left(r \\left(\\theta_{r} - 1\\right) + 1\\right)\\right)^{\\alpha} \\left(s \\left(r - 1\\right) + \\left(s - 1\\right) \\left(r \\left(\\theta_{r} - 1\\right) + 1\\right)\\right)^{2}} - \\frac{H \\alpha^{2} \\theta_{r}^{2} \\left(r \\left(\\theta_{r} - 1\\right) + 1\\right)}{\\left(- s \\left(r - 1\\right) + \\left(s - 1\\right) \\left(r \\left(\\theta_{r} - 1\\right) + 1\\right)\\right)^{\\alpha} \\left(s \\left(r - 1\\right) + \\left(s - 1\\right) \\left(r \\left(\\theta_{r} - 1\\right) + 1\\right)\\right)^{2}} - \\frac{H \\alpha \\theta_{r}^{2} \\left(r - 1\\right)}{\\left(- s \\left(r - 1\\right) + \\left(s - 1\\right) \\left(r \\left(\\theta_{r} - 1\\right) + 1\\right)\\right)^{\\alpha} \\left(s \\left(r - 1\\right) + \\left(s - 1\\right) \\left(r \\left(\\theta_{r} - 1\\right) + 1\\right)\\right)^{2}} - \\frac{H \\alpha \\theta_{r}^{2} \\left(r \\left(\\theta_{r} - 1\\right) + 1\\right)}{\\left(- s \\left(r - 1\\right) + \\left(s - 1\\right) \\left(r \\left(\\theta_{r} - 1\\right) + 1\\right)\\right)^{\\alpha} \\left(s \\left(r - 1\\right) + \\left(s - 1\\right) \\left(r \\left(\\theta_{r} - 1\\right) + 1\\right)\\right)^{2}}\\right)$$"
      ],
      "text/plain": [
       "   ⎛   2         -β                   -γ      2         -β           -γ       \n",
       " 2 ⎜F⋅γ ⋅(-r + 1)  ⋅(r - 1)⋅(-r⋅s + 1)     F⋅γ ⋅(-r + 1)  ⋅(-r⋅s + 1)     F⋅γ⋅\n",
       "r ⋅⎜──────────────────────────────────── + ──────────────────────────── + ────\n",
       "   ⎜                      2                                  2                \n",
       "   ⎝             (r⋅s - 1)                          (r⋅s - 1)                 \n",
       "\n",
       "        -β                   -γ               -β           -γ      2   2      \n",
       "(-r + 1)  ⋅(r - 1)⋅(-r⋅s + 1)     F⋅γ⋅(-r + 1)  ⋅(-r⋅s + 1)     H⋅α ⋅θᵣ ⋅(-(s⋅\n",
       "─────────────────────────────── + ─────────────────────────── - ──────────────\n",
       "                  2                                 2                         \n",
       "         (r⋅s - 1)                         (r⋅s - 1)                      (s⋅(\n",
       "\n",
       "                                    -α              2   2                     \n",
       "(r - 1) + (s - 1)⋅(r⋅(θᵣ - 1) + 1)))  ⋅(r - 1)   H⋅α ⋅θᵣ ⋅(-(s⋅(r - 1) + (s - \n",
       "────────────────────────────────────────────── - ─────────────────────────────\n",
       "                                  2                                           \n",
       "r - 1) + (s - 1)⋅(r⋅(θᵣ - 1) + 1))                              (s⋅(r - 1) + (\n",
       "\n",
       "                     -α                          2                            \n",
       "1)⋅(r⋅(θᵣ - 1) + 1)))  ⋅(r⋅(θᵣ - 1) + 1)   H⋅α⋅θᵣ ⋅(-(s⋅(r - 1) + (s - 1)⋅(r⋅(\n",
       "──────────────────────────────────────── - ───────────────────────────────────\n",
       "                        2                                                     \n",
       "s - 1)⋅(r⋅(θᵣ - 1) + 1))                             (s⋅(r - 1) + (s - 1)⋅(r⋅(\n",
       "\n",
       "              -α                 2                                          -α\n",
       "θᵣ - 1) + 1)))  ⋅(r - 1)   H⋅α⋅θᵣ ⋅(-(s⋅(r - 1) + (s - 1)⋅(r⋅(θᵣ - 1) + 1)))  \n",
       "──────────────────────── - ───────────────────────────────────────────────────\n",
       "             2                                                                \n",
       "θᵣ - 1) + 1))                            (s⋅(r - 1) + (s - 1)⋅(r⋅(θᵣ - 1) + 1)\n",
       "\n",
       "                 ⎞\n",
       "⋅(r⋅(θᵣ - 1) + 1)⎟\n",
       "─────────────────⎟\n",
       " 2               ⎟\n",
       ")                ⎠"
      ]
     },
     "execution_count": 23,
     "metadata": {},
     "output_type": "execute_result"
    }
   ],
   "source": [
    "sym.diff(expr, s, 2)"
   ]
  },
  {
   "cell_type": "markdown",
   "metadata": {},
   "source": [
    "# numerical example"
   ]
  },
  {
   "cell_type": "code",
   "execution_count": 24,
   "metadata": {
    "collapsed": false
   },
   "outputs": [
    {
     "data": {
      "image/png": "[encoded data removed]",
      "text/latex": [
       "$$- \\frac{19.4}{\\left(- 0.194 s + 0.224\\right)^{0.95}} + \\frac{271.335452625581}{- 0.97 s + 1}$$"
      ],
      "text/plain": [
       "                         -0.95   271.335452625581\n",
       "- 19.4⋅(-0.194⋅s + 0.224)      + ────────────────\n",
       "                                   -0.97⋅s + 1   "
      ]
     },
     "execution_count": 24,
     "metadata": {},
     "output_type": "execute_result"
    }
   ],
   "source": [
    "condition = stable_mixed_condition.lhs.subs(variables)\n",
    "condition"
   ]
  },
  {
   "cell_type": "code",
   "execution_count": 25,
   "metadata": {
    "collapsed": true
   },
   "outputs": [],
   "source": [
    "conds = [condition.subs({s:s_val}) for s_val in strategies]\n",
    "\n",
    "def find_nearest(array,value):\n",
    "    idx = (np.abs(array-value)).argmin()\n",
    "    return array[idx]"
   ]
  },
  {
   "cell_type": "code",
   "execution_count": 26,
   "metadata": {
    "collapsed": false
   },
   "outputs": [
    {
     "data": {
      "image/png": "[encoded data removed]",
      "text/plain": [
       "<matplotlib.figure.Figure at 0x7f70989552b0>"
      ]
     },
     "metadata": {},
     "output_type": "display_data"
    }
   ],
   "source": [
    "plt.plot(strategies, conds);\n",
    "plt.title(\"$r=0.97$\")\n",
    "plt.ylabel(\"Left-hand side of (19)\")\n",
    "plt.xlabel(\"$s^*$\")\n",
    "plt.xticks(fontsize = 10);\n",
    "plt.yticks(fontsize = 10);"
   ]
  },
  {
   "cell_type": "code",
   "execution_count": 31,
   "metadata": {
    "collapsed": false
   },
   "outputs": [],
   "source": [
    "def s_star_v_r(r_val, gamma_num=gamma_num, beta_num=beta_num, \n",
    "               alpha_num=alpha_num, theta_r_num=theta_r_num, \n",
    "               F_num=F_num, H_num=H_num,\n",
    "               stable_mixed_condition=stable_mixed_condition):\n",
    "    \"\"\"\n",
    "    Numerically solve the condition for mixed \n",
    "    strategy stability for a given value of r.\n",
    "    \"\"\"\n",
    "    variables = {gamma: gamma_num, beta: beta_num, alpha: alpha_num, theta_r:theta_r_num, \n",
    "                 F: F_num, H: H_num, r:r_val}\n",
    "    condition = stable_mixed_condition.lhs.subs(variables)\n",
    "    func = lambda x: condition.subs({s: x})\n",
    "\n",
    "    try:\n",
    "        return brentq(func, a=0, b=1)\n",
    "    except ValueError:\n",
    "        return float(\"nan\")"
   ]
  },
  {
   "cell_type": "code",
   "execution_count": 34,
   "metadata": {
    "collapsed": false
   },
   "outputs": [],
   "source": [
    "rs = np.linspace(0.0, .999, 1000)\n",
    "s_stars = [s_star_v_r(r) for r in rs]"
   ]
  },
  {
   "cell_type": "code",
   "execution_count": 39,
   "metadata": {
    "collapsed": false
   },
   "outputs": [
    {
     "data": {
      "image/png": "[encoded data removed]",
      "text/plain": [
       "<matplotlib.figure.Figure at 0x7f7098a32470>"
      ]
     },
     "metadata": {},
     "output_type": "display_data"
    }
   ],
   "source": [
    "plt.scatter(rs, s_stars)\n",
    "plt.xlabel(\"$r$\", fontsize=18)\n",
    "plt.ylabel(\"$s^*$\", fontsize=18)\n",
    "plt.ylim(0, 1);\n",
    "plt.xlim(0, 1);\n",
    "plt.xticks(fontsize = 10);\n",
    "plt.yticks(fontsize = 10);"
   ]
  },
  {
   "cell_type": "markdown",
   "metadata": {},
   "source": [
    "# Evolutionary stability"
   ]
  },
  {
   "cell_type": "markdown",
   "metadata": {},
   "source": [
    "Here we test the evolutionary stability of the strategies. Let the strategy we know is stable and testing\n",
    "it's evolytionary stability be $s^*$. For a strategy $s^*$ to be stable, it must be the best response in a mutated population. Let the mutation population be $s = s^* \\pm \\epsilon$.\n",
    "\n",
    "$s^*$ will be evolytionary stable if and only if:\n",
    "\n",
    "$$u((s^*, 1 - s^*), (s, 1 -s)) > u((s, 1 - s), (s, 1 -s))$$\n",
    "\n",
    "let:\n",
    "\n",
    "$$ \\delta_{\\pm} = u((s^*, 1 - s^*), (s, 1 -s)) - u((s, 1 - s), (s, 1 -s))$$"
   ]
  },
  {
   "cell_type": "code",
   "execution_count": 84,
   "metadata": {
    "collapsed": false
   },
   "outputs": [],
   "source": [
    "def evolutionary_stability(s, r_val=0.97, gamma_num=gamma_num, beta_num=beta_num, \n",
    "                           alpha_num=alpha_num, theta_r_num=theta_r_num, \n",
    "                           F_num=F_num, H_num=H_num, condition=condition,\n",
    "                           tol=0.000001, step=0.0000001):\n",
    "\n",
    "    e = tol * 10\n",
    "    while e > tol:\n",
    "        \n",
    "        variables = {gamma: gamma_num, beta: beta_num, alpha: alpha_num, theta_r:theta_r_num, \n",
    "                 F: F_num, H: H_num, r:r_val}\n",
    "\n",
    "        delta_plus = (tools.utility(s, s + e) - tools.utility(s + e, s + e)).subs(variables)\n",
    "        delta_minus = (tools.utility(s, s - e) - tools.utility(s - e, s + e)).subs(variables)\n",
    "        \n",
    "        if delta_plus > tol or delta_minus > tol:\n",
    "            return print(\"Not evolutionary stable for $\\epsilo=${}\".format(e)) \n",
    "\n",
    "        e -= step \n",
    "    return print(\"Evolunationary stable\")"
   ]
  },
  {
   "cell_type": "code",
   "execution_count": 85,
   "metadata": {
    "collapsed": false
   },
   "outputs": [
    {
     "name": "stdout",
     "output_type": "stream",
     "text": [
      "Not evolutionary stable for $\\epsilo=$9.999999999999999e-06\n"
     ]
    }
   ],
   "source": [
    "evolutionary_stability(1)"
   ]
  },
  {
   "cell_type": "code",
   "execution_count": null,
   "metadata": {
    "collapsed": true
   },
   "outputs": [],
   "source": []
  }
 ],
 "metadata": {
  "anaconda-cloud": {},
  "kernelspec": {
   "display_name": "Python [conda env:rhino]",
   "language": "python",
   "name": "conda-env-rhino-py"
  },
  "language_info": {
   "codemirror_mode": {
    "name": "ipython",
    "version": 3
   },
   "file_extension": ".py",
   "mimetype": "text/x-python",
   "name": "python",
   "nbconvert_exporter": "python",
   "pygments_lexer": "ipython3",
   "version": "3.6.1"
  }
 },
 "nbformat": 4,
 "nbformat_minor": 2
}
