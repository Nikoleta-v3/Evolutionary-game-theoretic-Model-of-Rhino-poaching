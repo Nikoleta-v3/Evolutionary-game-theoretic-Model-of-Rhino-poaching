{
 "cells": [
  {
   "cell_type": "markdown",
   "metadata": {},
   "source": [
    "# A notebook to carry out calculations"
   ]
  },
  {
   "cell_type": "code",
   "execution_count": 1,
   "metadata": {
    "collapsed": false
   },
   "outputs": [],
   "source": [
    "import sympy as sym\n",
    "import scipy as sp\n",
    "import numpy as np\n",
    "sym.init_printing()\n",
    "\n",
    "import imp\n",
    "tools = imp.load_source('tools', '../tools.py')\n",
    "\n",
    "assert sym.__version__ == \"1.0\"\n",
    "assert sp.__version__ == \"0.19.0\"\n",
    "assert np.__version__ == \"1.12.1\""
   ]
  },
  {
   "cell_type": "code",
   "execution_count": 2,
   "metadata": {
    "collapsed": false
   },
   "outputs": [],
   "source": [
    "#import matplotlib\n",
    "import matplotlib.pyplot as plt\n",
    "import matplotlib\n",
    "\n",
    "%matplotlib inline\n",
    "\n",
    "font = {'size'   : 15,\n",
    "        'weight': 'bold'}\n",
    "matplotlib.rc('font', **font)"
   ]
  },
  {
   "cell_type": "code",
   "execution_count": 3,
   "metadata": {
    "collapsed": true
   },
   "outputs": [],
   "source": [
    "from scipy.optimize import brentq"
   ]
  },
  {
   "cell_type": "markdown",
   "metadata": {},
   "source": [
    "Defining all our variables (with assumption that they are positive)."
   ]
  },
  {
   "cell_type": "code",
   "execution_count": 4,
   "metadata": {
    "collapsed": false
   },
   "outputs": [],
   "source": [
    "r, s, x, theta_r, alpha, H, beta, gamma, F = sym.symbols(\"r, s, x, theta_r, alpha, \\\n",
    "                                                          H, beta, gamma, F\", positive=True)"
   ]
  },
  {
   "cell_type": "code",
   "execution_count": 5,
   "metadata": {
    "collapsed": true
   },
   "outputs": [],
   "source": [
    "# some values for the parameters\n",
    "gamma_num = .5\n",
    "beta_num = .5\n",
    "alpha_num = .5 \n",
    "theta_r_num = .2  # Quantity of horn in devalued Rhino\n",
    "F_num = 10\n",
    "a1_num = 7\n",
    "H_num = 100"
   ]
  },
  {
   "cell_type": "code",
   "execution_count": 6,
   "metadata": {
    "collapsed": false
   },
   "outputs": [],
   "source": [
    "variables = {gamma: gamma_num, beta: beta_num, alpha: alpha_num, \n",
    "             theta_r:theta_r_num, F: F_num, H: H_num, r:.97}"
   ]
  },
  {
   "cell_type": "markdown",
   "metadata": {},
   "source": [
    "The model\n",
    "----------"
   ]
  },
  {
   "cell_type": "code",
   "execution_count": null,
   "metadata": {
    "collapsed": false
   },
   "outputs": [],
   "source": [
    "# the theta function\n",
    "tools.theta(r, s)"
   ]
  },
  {
   "cell_type": "code",
   "execution_count": null,
   "metadata": {
    "collapsed": false
   },
   "outputs": [],
   "source": [
    "# the psi function\n",
    "tools.psi(r, s)"
   ]
  },
  {
   "cell_type": "code",
   "execution_count": null,
   "metadata": {
    "collapsed": false
   },
   "outputs": [],
   "source": [
    "# gain\n",
    "tools.gain(1), tools.gain(0)"
   ]
  },
  {
   "cell_type": "code",
   "execution_count": null,
   "metadata": {
    "collapsed": false
   },
   "outputs": [],
   "source": [
    "rs = np.linspace(0, 0.999, 100)\n",
    "alphas = np.linspace(0, 1, 5)\n",
    "gains = [[(H * tools.theta(r, s=0.2, theta_r=.3 ) ** (- alpha_v)).subs({H:10, r: r_v}) \n",
    "           for r_v in rs] for alpha_v in alphas]"
   ]
  },
  {
   "cell_type": "code",
   "execution_count": null,
   "metadata": {
    "collapsed": false
   },
   "outputs": [],
   "source": [
    "plt.figure(figsize=(10, 7))\n",
    "for i, v in enumerate(alphas):\n",
    "    plt.plot(rs, gains[i], label=r'$\\alpha={}$'.format(v)) \n",
    "    plt.xlabel(r'$r$'); plt.ylabel(r'$H \\theta(r,s)^{-\\alpha}$')\n",
    "    plt.legend()\n",
    "plt.tight_layout()\n",
    "plt.savefig('../images/alphas.pdf')"
   ]
  },
  {
   "cell_type": "code",
   "execution_count": null,
   "metadata": {
    "collapsed": false
   },
   "outputs": [],
   "source": [
    "# cost\n",
    "tools.cost(1), tools.cost(0)"
   ]
  },
  {
   "cell_type": "code",
   "execution_count": null,
   "metadata": {
    "collapsed": false
   },
   "outputs": [],
   "source": [
    "gammas = np.linspace(0, 1, 5)\n",
    "costs = [[(F * (-r_v + 1) ** beta * tools.psi(r_v, s=0.7) ** gamma_v).subs({F:5, beta: .95}) for r_v in rs]\n",
    "         for gamma_v in gammas]"
   ]
  },
  {
   "cell_type": "code",
   "execution_count": null,
   "metadata": {
    "collapsed": false
   },
   "outputs": [],
   "source": [
    "plt.figure(figsize=(10, 7))\n",
    "for i, v in enumerate(gammas):\n",
    "    plt.plot(rs, costs[i], label=r'$\\gamma={}$'.format(v)) \n",
    "    plt.xlabel(r'$r$'); plt.ylabel(r'$F(1-rx)^{\\gamma} (1-r)^{\\beta}$')\n",
    "    plt.legend()\n",
    "plt.tight_layout()\n",
    "plt.savefig('../images/gammas.pdf')"
   ]
  },
  {
   "cell_type": "code",
   "execution_count": null,
   "metadata": {
    "collapsed": false
   },
   "outputs": [],
   "source": [
    "betas = np.linspace(0, 1, 5)\n",
    "costs = [[(F * (-r_v + 1) ** beta_v * tools.psi(r_v, s=1) ** gamma).subs({F:5, gamma: .95}) for r_v in rs]\n",
    "         for beta_v in betas]"
   ]
  },
  {
   "cell_type": "code",
   "execution_count": null,
   "metadata": {
    "collapsed": false
   },
   "outputs": [],
   "source": [
    "plt.figure(figsize=(10, 7))\n",
    "for i, v in enumerate(betas):\n",
    "    plt.plot(rs, costs[i], label=r'$\\beta={}$'.format(v)) \n",
    "    plt.xlabel(r'$r$'); plt.ylabel(r'$F(1-rx)^{\\gamma} (1-r)^{\\beta}$')\n",
    "    plt.legend()\n",
    "plt.tight_layout()\n",
    "#plt.show()\n",
    "\n",
    "plt.savefig('../images/betas.pdf')"
   ]
  },
  {
   "cell_type": "markdown",
   "metadata": {},
   "source": [
    "Utility\n",
    "-------"
   ]
  },
  {
   "cell_type": "code",
   "execution_count": null,
   "metadata": {
    "collapsed": false
   },
   "outputs": [],
   "source": [
    "tools.utility()"
   ]
  },
  {
   "cell_type": "code",
   "execution_count": null,
   "metadata": {
    "collapsed": false
   },
   "outputs": [],
   "source": [
    "expr = H * (theta_r * r * (1 - s) - r + 1) * tools.theta(r, x) ** (-alpha) - \\\n",
    "       F * (1 - r * x) ** gamma * ((1 - r) ** beta * (-s + s/(1 -r) + 1))"
   ]
  },
  {
   "cell_type": "code",
   "execution_count": null,
   "metadata": {
    "collapsed": false
   },
   "outputs": [],
   "source": [
    "(tools.utility() - expr).simplify()"
   ]
  },
  {
   "cell_type": "markdown",
   "metadata": {},
   "source": [
    "# Condition for $s=1$ to be stable:"
   ]
  },
  {
   "cell_type": "code",
   "execution_count": null,
   "metadata": {
    "collapsed": false
   },
   "outputs": [],
   "source": [
    "expr = tools.utility(1, 1) - tools.utility(0, 1)\n",
    "stable_selective_condition = sym.Eq(expr.expand(), 0)\n",
    "stable_selective_condition"
   ]
  },
  {
   "cell_type": "code",
   "execution_count": null,
   "metadata": {
    "collapsed": false
   },
   "outputs": [],
   "source": [
    "expr.subs({r:0})"
   ]
  },
  {
   "cell_type": "code",
   "execution_count": null,
   "metadata": {
    "collapsed": false
   },
   "outputs": [],
   "source": [
    "expr.subs({r:0.99})"
   ]
  },
  {
   "cell_type": "markdown",
   "metadata": {},
   "source": [
    "numerical example\n",
    "-------------------"
   ]
  },
  {
   "cell_type": "code",
   "execution_count": null,
   "metadata": {
    "collapsed": false
   },
   "outputs": [],
   "source": [
    "# some values for the parameters\n",
    "gamma_num = 1\n",
    "beta_num = 1\n",
    "alpha_num = 1 \n",
    "theta_r_num = .1  # Quantity of horn in devalued Rhino\n",
    "F_num = 10\n",
    "H_num = 100"
   ]
  },
  {
   "cell_type": "code",
   "execution_count": null,
   "metadata": {
    "collapsed": false
   },
   "outputs": [],
   "source": [
    "variables = {gamma: gamma_num, beta: beta_num, alpha: alpha_num, \n",
    "             theta_r:theta_r_num, F: F_num, H: H_num, r:0.1}"
   ]
  },
  {
   "cell_type": "code",
   "execution_count": null,
   "metadata": {
    "collapsed": true
   },
   "outputs": [],
   "source": [
    "strategies = np.linspace(0, 0.99, 100)"
   ]
  },
  {
   "cell_type": "code",
   "execution_count": null,
   "metadata": {
    "collapsed": false
   },
   "outputs": [],
   "source": [
    "utilities = [tools.utility(s, 1).subs(variables) for s in strategies]\n",
    "\n",
    "plt.plot(strategies, utilities)\n",
    "\n",
    "plt.xlabel(\"$s$\"); plt.ylabel(\"$u(s, 1-s), (1, 0))$\")\n",
    "plt.show()"
   ]
  },
  {
   "cell_type": "markdown",
   "metadata": {},
   "source": [
    "$s = 1$ is stable as $s=1$ has the highest utility in the population."
   ]
  },
  {
   "cell_type": "markdown",
   "metadata": {},
   "source": [
    "# Condition for $s=0$ to be stable:"
   ]
  },
  {
   "cell_type": "code",
   "execution_count": null,
   "metadata": {
    "collapsed": false
   },
   "outputs": [],
   "source": [
    "expr = tools.utility(0, 0) - tools.utility(1, 0)\n",
    "stable_indiscrimate_condition = sym.Eq(expr.expand(), 0)\n",
    "stable_indiscrimate_condition"
   ]
  },
  {
   "cell_type": "code",
   "execution_count": null,
   "metadata": {
    "collapsed": false
   },
   "outputs": [],
   "source": [
    "expr.collect(r).collect(H).collect(F)"
   ]
  },
  {
   "cell_type": "code",
   "execution_count": null,
   "metadata": {
    "collapsed": false
   },
   "outputs": [],
   "source": [
    "(expr.simplify().collect(r) / r)"
   ]
  },
  {
   "cell_type": "code",
   "execution_count": null,
   "metadata": {
    "collapsed": false
   },
   "outputs": [],
   "source": [
    "(expr.simplify().collect(r) / r).subs({r:0})"
   ]
  },
  {
   "cell_type": "markdown",
   "metadata": {},
   "source": [
    "Limit behaviour as $r\\to 1$:"
   ]
  },
  {
   "cell_type": "code",
   "execution_count": null,
   "metadata": {
    "collapsed": false
   },
   "outputs": [],
   "source": [
    "sym.limit(expr, r, 1)"
   ]
  },
  {
   "cell_type": "markdown",
   "metadata": {},
   "source": [
    "# numerical example"
   ]
  },
  {
   "cell_type": "code",
   "execution_count": null,
   "metadata": {
    "collapsed": false
   },
   "outputs": [],
   "source": [
    "utilities = [tools.utility(s, 0).subs(variables) for s in strategies]\n",
    "\n",
    "plt.plot(strategies, utilities)\n",
    "\n",
    "plt.xlabel(\"$s$\"); plt.ylabel(\"$u(s, 1-s), (0, 1))$\")\n",
    "plt.show()"
   ]
  },
  {
   "cell_type": "markdown",
   "metadata": {},
   "source": [
    "$s = 0$ is not stable as $s=1$ has the highest utility in the population."
   ]
  },
  {
   "cell_type": "markdown",
   "metadata": {},
   "source": [
    "# Condition for $1>s^*>0$ to be stable:"
   ]
  },
  {
   "cell_type": "code",
   "execution_count": 13,
   "metadata": {
    "collapsed": false
   },
   "outputs": [
    {
     "data": {
      "image/png": "[encoded data removed]",
      "text/latex": [
       "$$\\frac{r}{\\left(r - 1\\right) \\left(- r s \\theta_{r} + r \\theta_{r} - r + 1\\right)^{\\alpha}} \\left(F \\left(- r + 1\\right)^{\\beta} \\left(- r s + 1\\right)^{\\gamma} \\left(- r s \\theta_{r} + r \\theta_{r} - r + 1\\right)^{\\alpha} - H r \\theta_{r} + H \\theta_{r}\\right) = 0$$"
      ],
      "text/plain": [
       "  ⎛          β           γ                         α                ⎞         \n",
       "r⋅⎝F⋅(-r + 1) ⋅(-r⋅s + 1) ⋅(-r⋅s⋅θᵣ + r⋅θᵣ - r + 1)  - H⋅r⋅θᵣ + H⋅θᵣ⎠⋅(-r⋅s⋅θᵣ\n",
       "──────────────────────────────────────────────────────────────────────────────\n",
       "                                             r - 1                            \n",
       "\n",
       "                -α    \n",
       " + r⋅θᵣ - r + 1)      \n",
       "────────────────── = 0\n",
       "                      "
      ]
     },
     "execution_count": 13,
     "metadata": {},
     "output_type": "execute_result"
    }
   ],
   "source": [
    "expr = tools.utility(1, s) - tools.utility(0, s)\n",
    "stable_mixed_condition = sym.Eq(expr.simplify(), 0)\n",
    "stable_mixed_condition"
   ]
  },
  {
   "cell_type": "code",
   "execution_count": 14,
   "metadata": {
    "collapsed": false
   },
   "outputs": [
    {
     "data": {
      "image/png": "[encoded data removed]",
      "text/latex": [
       "$$- \\frac{r}{\\left(r - 1\\right) \\left(- r + \\theta_{r} \\left(- r s + r\\right) + 1\\right)^{\\alpha}} \\left(- F \\left(- r + 1\\right)^{\\beta} \\left(- r s + 1\\right)^{\\gamma} \\left(- r s \\theta_{r} + r \\theta_{r} - r + 1\\right)^{\\alpha} + \\theta_{r} \\left(H r - H\\right)\\right)$$"
      ],
      "text/plain": [
       "   ⎛            β           γ                         α               ⎞       \n",
       "-r⋅⎝- F⋅(-r + 1) ⋅(-r⋅s + 1) ⋅(-r⋅s⋅θᵣ + r⋅θᵣ - r + 1)  + θᵣ⋅(H⋅r - H)⎠⋅(-r + \n",
       "──────────────────────────────────────────────────────────────────────────────\n",
       "                                               r - 1                          \n",
       "\n",
       "                  -α \n",
       "θᵣ⋅(-r⋅s + r) + 1)   \n",
       "─────────────────────\n",
       "                     "
      ]
     },
     "execution_count": 14,
     "metadata": {},
     "output_type": "execute_result"
    }
   ],
   "source": [
    "expr.factor().collect(theta_r).collect(r)"
   ]
  },
  {
   "cell_type": "code",
   "execution_count": 15,
   "metadata": {
    "collapsed": true
   },
   "outputs": [],
   "source": [
    "sym.init_printing(False)"
   ]
  },
  {
   "cell_type": "code",
   "execution_count": 16,
   "metadata": {
    "collapsed": false
   },
   "outputs": [
    {
     "data": {
      "text/plain": [
       "-r*(-F*(-r + 1)**beta*(-r*s + 1)**gamma*(-r*s*theta_r + r*theta_r - r + 1)**alpha + theta_r*(H*r - H))*(-r + theta_r*(-r*s + r) + 1)**(-alpha)/(r - 1)"
      ]
     },
     "execution_count": 16,
     "metadata": {},
     "output_type": "execute_result"
    }
   ],
   "source": [
    "expr.factor().collect(theta_r).collect(r)"
   ]
  },
  {
   "cell_type": "markdown",
   "metadata": {},
   "source": [
    "In preparation for numerical solution: let's see what the derivaties of the lhs of that are:"
   ]
  },
  {
   "cell_type": "code",
   "execution_count": null,
   "metadata": {
    "collapsed": false
   },
   "outputs": [],
   "source": [
    "sym.diff(expr, s)"
   ]
  },
  {
   "cell_type": "code",
   "execution_count": null,
   "metadata": {
    "collapsed": false
   },
   "outputs": [],
   "source": [
    "sym.diff(expr, s, 2)"
   ]
  },
  {
   "cell_type": "markdown",
   "metadata": {},
   "source": [
    "# numerical example"
   ]
  },
  {
   "cell_type": "code",
   "execution_count": null,
   "metadata": {
    "collapsed": false
   },
   "outputs": [],
   "source": [
    "condition = stable_mixed_condition.lhs.subs(variables)\n",
    "condition"
   ]
  },
  {
   "cell_type": "code",
   "execution_count": null,
   "metadata": {
    "collapsed": true
   },
   "outputs": [],
   "source": [
    "strategies = np.linspace(0, 1, 100)"
   ]
  },
  {
   "cell_type": "code",
   "execution_count": null,
   "metadata": {
    "collapsed": false
   },
   "outputs": [],
   "source": [
    "conds = [condition.subs({s:s_val}) for s_val in strategies]\n",
    "\n",
    "def find_nearest(array,value):\n",
    "    idx = (np.abs(array-value)).argmin()\n",
    "    return array[idx]"
   ]
  },
  {
   "cell_type": "code",
   "execution_count": null,
   "metadata": {
    "collapsed": false
   },
   "outputs": [],
   "source": [
    "plt.plot(strategies, conds);\n",
    "plt.title(\"$r=0.97$\")\n",
    "plt.ylabel(\"Left-hand side of (19)\")\n",
    "plt.xlabel(\"$s^*$\")\n",
    "plt.xticks(fontsize = 10);\n",
    "plt.yticks(fontsize = 10);"
   ]
  },
  {
   "cell_type": "code",
   "execution_count": null,
   "metadata": {
    "collapsed": true
   },
   "outputs": [],
   "source": [
    "# some values for the parameters\n",
    "gamma_num = .95\n",
    "beta_num = .95\n",
    "alpha_num = .95 \n",
    "theta_r_num = .1  # Quantity of horn in devalued Rhino\n",
    "F_num = 10\n",
    "H_num = 10"
   ]
  },
  {
   "cell_type": "code",
   "execution_count": null,
   "metadata": {
    "collapsed": false
   },
   "outputs": [],
   "source": [
    "expr.subs(variables)"
   ]
  },
  {
   "cell_type": "code",
   "execution_count": null,
   "metadata": {
    "collapsed": false
   },
   "outputs": [],
   "source": [
    "tools.s_star_v_r(gamma_num=0.5, beta_num=0.5, theta_r_num=0.2, H_num=500, F_num=1, stable_mixed_condition=expr)"
   ]
  },
  {
   "cell_type": "code",
   "execution_count": null,
   "metadata": {
    "collapsed": false
   },
   "outputs": [],
   "source": [
    "rs = np.linspace(0.0, .999, 100)\n",
    "s_stars = [tools.s_star_v_r(gamma_num=0.95, \n",
    "                            beta_num=0.95, theta_r_num=0.2, H_num=500, F_num=100, stable_mixed_condition=expr) for r in rs]"
   ]
  },
  {
   "cell_type": "code",
   "execution_count": null,
   "metadata": {
    "collapsed": false
   },
   "outputs": [],
   "source": [
    "plt.scatter(rs, s_stars)\n",
    "plt.xlabel(\"$r$\", fontsize=18)\n",
    "plt.ylabel(\"$s^*$\", fontsize=18)\n",
    "plt.ylim(0, 1);\n",
    "plt.xlim(0, 1);\n",
    "plt.xticks(fontsize = 10);\n",
    "plt.yticks(fontsize = 10);\n",
    "\n",
    "plt.savefig('../images/stable_mixed_example.pdf')"
   ]
  },
  {
   "cell_type": "code",
   "execution_count": null,
   "metadata": {
    "collapsed": false
   },
   "outputs": [],
   "source": [
    "s_stars"
   ]
  },
  {
   "cell_type": "code",
   "execution_count": null,
   "metadata": {
    "collapsed": false
   },
   "outputs": [],
   "source": [
    "rs = np.linspace(0.0, .999, 100)\n",
    "\n",
    "for theta_r_v in [*np.linspace(0, 1, 10)]:   \n",
    "    \n",
    "    s_stars = [tools.s_star_v_r(r, theta_r_num=theta_r_v) for r in rs]\n",
    "    \n",
    "    plt.figure();\n",
    "    plt.scatter(rs, s_stars)\n",
    "    plt.xlabel(\"$r$\", fontsize=18)\n",
    "    plt.ylabel(\"$s^*$\", fontsize=18)\n",
    "    plt.ylim(0, 1);\n",
    "    plt.xlim(0, 1);\n",
    "    plt.xticks(fontsize = 10);\n",
    "    plt.yticks(fontsize = 10);\n",
    "    plt.tight_layout();\n",
    "    #plt.show()\n",
    "    #plt.savefig(\"../images/stable_mixed_theta_r_{}.pdf\".format(theta_r_v))"
   ]
  },
  {
   "cell_type": "markdown",
   "metadata": {},
   "source": [
    "# Evolutionary stability"
   ]
  },
  {
   "cell_type": "markdown",
   "metadata": {},
   "source": [
    "Here we test the evolutionary stability of the strategies. Let the strategy we know is stable and testing\n",
    "it's evolytionary stability be $s^*$. For a strategy $s^*$ to be stable, it must be the best response in a mutated population. Let the mutation population be $s = s^* \\pm \\epsilon$.\n",
    "\n",
    "$s^*$ is the best response if and only if:\n",
    "\n",
    "$$u((s^*, 1 - s^*), (s, 1 -s)) > u((s, 1 - s), (s, 1 -s))$$\n",
    "\n",
    "let:\n",
    "\n",
    "$$ \\delta_{\\pm} = u((s^*, 1 - s^*), (s, 1 -s)) - u((s, 1 - s), (s, 1 -s))$$"
   ]
  },
  {
   "cell_type": "code",
   "execution_count": null,
   "metadata": {
    "collapsed": false
   },
   "outputs": [],
   "source": [
    "def evolutionary_stability(s, r_val=0.97, gamma_num=gamma_num, beta_num=beta_num, \n",
    "                           alpha_num=alpha_num, theta_r_num=theta_r_num, \n",
    "                           F_num=F_num, H_num=H_num,\n",
    "                           tol=0.000001, step=0.0000001, starting_epsilon=0.00001):\n",
    "    \n",
    "    variables = {gamma: gamma_num, beta: beta_num, alpha: alpha_num, theta_r:theta_r_num, \n",
    "                 F: F_num, H: H_num, r:r_val}\n",
    "    \n",
    "    epsilon = starting_epsilon \n",
    "    \n",
    "    evol_stable = []\n",
    "    while epsilon > tol:\n",
    "        \n",
    "        up_s, down_s = min(s + epsilon, 1), max(s - epsilon, 0)\n",
    "        delta_plus = (tools.utility(s, up_s) - tools.utility(up_s, up_s)).subs(variables)\n",
    "        delta_minus = (tools.utility(s, down_s) - tools.utility(down_s, down_s)).subs(variables)\n",
    "        \n",
    "        evol_stable.append((delta_plus > tol) and (delta_minus > tol))\n",
    "        epsilon -= step \n",
    "    \n",
    "    return evol_stable, evol_stable[-1]"
   ]
  },
  {
   "cell_type": "markdown",
   "metadata": {},
   "source": [
    "% Function with the condition of stability "
   ]
  },
  {
   "cell_type": "code",
   "execution_count": null,
   "metadata": {
    "collapsed": false
   },
   "outputs": [],
   "source": [
    "evolutionary_stability(1, step=0.001, tol=0.00001, starting_epsilon=0.1)"
   ]
  },
  {
   "cell_type": "code",
   "execution_count": null,
   "metadata": {
    "collapsed": false
   },
   "outputs": [],
   "source": [
    "tools.evolutionary_stability(1, step=0.001, tol=0.00001, starting_epsilon=0.1)"
   ]
  },
  {
   "cell_type": "markdown",
   "metadata": {},
   "source": [
    "%TODO evolutionary stability for s=1 for when s is stable."
   ]
  },
  {
   "cell_type": "markdown",
   "metadata": {
    "collapsed": true
   },
   "source": [
    "$s ^ *$ a best response?\n",
    "-----------------------"
   ]
  },
  {
   "cell_type": "markdown",
   "metadata": {},
   "source": [
    "From the plot above we can tell that for an $r=0.6$ a $s^*$ for which the population is stable does exist.\n",
    "Let us define the $s^*$ value."
   ]
  },
  {
   "cell_type": "code",
   "execution_count": null,
   "metadata": {
    "collapsed": false
   },
   "outputs": [],
   "source": [
    "r_v = 0.6\n",
    "s_star = s_star_v_r(r_v)\n",
    "s_star"
   ]
  },
  {
   "cell_type": "code",
   "execution_count": null,
   "metadata": {
    "collapsed": false
   },
   "outputs": [],
   "source": [
    "evolutionary_stability(s_star, r_val=r_v, step=0.001, tol=0.00001, starting_epsilon=0.1)"
   ]
  },
  {
   "cell_type": "code",
   "execution_count": null,
   "metadata": {
    "collapsed": false
   },
   "outputs": [],
   "source": [
    "variables[r] = r_v"
   ]
  },
  {
   "cell_type": "code",
   "execution_count": null,
   "metadata": {
    "collapsed": false
   },
   "outputs": [],
   "source": [
    "tools.utility(s_star, s_star).subs(variables)"
   ]
  },
  {
   "cell_type": "code",
   "execution_count": null,
   "metadata": {
    "collapsed": false
   },
   "outputs": [],
   "source": [
    "epsilon = 0.5\n",
    "tools.utility(s_star - epsilon, s_star).subs(variables)"
   ]
  },
  {
   "cell_type": "code",
   "execution_count": null,
   "metadata": {
    "collapsed": false
   },
   "outputs": [],
   "source": [
    "tools.utility(s_star, s_star - epsilon).subs(variables)"
   ]
  },
  {
   "cell_type": "code",
   "execution_count": null,
   "metadata": {
    "collapsed": false
   },
   "outputs": [],
   "source": [
    "tools.utility(s_star - epsilon, s_star - epsilon).subs(variables)"
   ]
  },
  {
   "cell_type": "code",
   "execution_count": null,
   "metadata": {
    "collapsed": false
   },
   "outputs": [],
   "source": [
    "tools.utility(s_star, s_star + epsilon).subs(variables)"
   ]
  },
  {
   "cell_type": "code",
   "execution_count": null,
   "metadata": {
    "collapsed": false
   },
   "outputs": [],
   "source": [
    "tools.utility(s_star + epsilon, s_star + epsilon).subs(variables)"
   ]
  },
  {
   "cell_type": "code",
   "execution_count": null,
   "metadata": {
    "collapsed": false
   },
   "outputs": [],
   "source": [
    "s_star_v_r(0.6)"
   ]
  },
  {
   "cell_type": "code",
   "execution_count": null,
   "metadata": {
    "collapsed": false
   },
   "outputs": [],
   "source": [
    "np.isnan(s_star_v_r(0.6))"
   ]
  },
  {
   "cell_type": "code",
   "execution_count": null,
   "metadata": {
    "collapsed": false
   },
   "outputs": [],
   "source": [
    "s_star_v_r(0.2) ==  np.nan #float('nan')"
   ]
  },
  {
   "cell_type": "code",
   "execution_count": null,
   "metadata": {
    "collapsed": false
   },
   "outputs": [],
   "source": [
    "s_star_v_r(0.6) == s_star_v_r(0.6)"
   ]
  },
  {
   "cell_type": "code",
   "execution_count": null,
   "metadata": {
    "collapsed": false
   },
   "outputs": [],
   "source": [
    "r_where_stable = [r for r in rs if not np.isnan(s_star_v_r(r))]"
   ]
  },
  {
   "cell_type": "code",
   "execution_count": null,
   "metadata": {
    "collapsed": false
   },
   "outputs": [],
   "source": [
    "r_where_stable"
   ]
  },
  {
   "cell_type": "code",
   "execution_count": null,
   "metadata": {
    "collapsed": false
   },
   "outputs": [],
   "source": [
    "last = [evolutionary_stability(s=s_star_v_r(r), r_val=r)[-1] for r in r_where_stable]"
   ]
  },
  {
   "cell_type": "code",
   "execution_count": null,
   "metadata": {
    "collapsed": false
   },
   "outputs": [],
   "source": [
    "last"
   ]
  },
  {
   "cell_type": "code",
   "execution_count": null,
   "metadata": {
    "collapsed": true
   },
   "outputs": [],
   "source": [
    "import itertools"
   ]
  },
  {
   "cell_type": "code",
   "execution_count": null,
   "metadata": {
    "collapsed": true
   },
   "outputs": [],
   "source": [
    "x, a, k = np.linspace(0, 1, 4), np.linspace(0, 0.1, 1), np.linspace(0, 2, 4)"
   ]
  },
  {
   "cell_type": "code",
   "execution_count": null,
   "metadata": {
    "collapsed": false
   },
   "outputs": [],
   "source": [
    "pairs = itertools.product(x, a, k)"
   ]
  },
  {
   "cell_type": "code",
   "execution_count": null,
   "metadata": {
    "collapsed": false
   },
   "outputs": [],
   "source": [
    "for i in pairs:\n",
    "    print(i)"
   ]
  },
  {
   "cell_type": "code",
   "execution_count": null,
   "metadata": {
    "collapsed": false
   },
   "outputs": [],
   "source": [
    "xs = np.linspace(0, 1, 200)\n",
    "beta = 0.5\n",
    "ys = [(1-x) ** ((beta)) for x in xs]\n",
    "plt.plot(xs, ys)"
   ]
  },
  {
   "cell_type": "code",
   "execution_count": null,
   "metadata": {
    "collapsed": false
   },
   "outputs": [],
   "source": [
    "xs = np.linspace(0, 1, 200)\n",
    "alpha = 0.005\n",
    "ys = [(1 - x) ** (-(alpha)) for x in xs]\n",
    "plt.plot(xs, ys)"
   ]
  },
  {
   "cell_type": "code",
   "execution_count": null,
   "metadata": {
    "collapsed": true
   },
   "outputs": [],
   "source": []
  }
 ],
 "metadata": {
  "anaconda-cloud": {},
  "kernelspec": {
   "display_name": "Python [conda env:rhino]",
   "language": "python",
   "name": "conda-env-rhino-py"
  },
  "language_info": {
   "codemirror_mode": {
    "name": "ipython",
    "version": 3
   },
   "file_extension": ".py",
   "mimetype": "text/x-python",
   "name": "python",
   "nbconvert_exporter": "python",
   "pygments_lexer": "ipython3",
   "version": "3.6.1"
  }
 },
 "nbformat": 4,
 "nbformat_minor": 2
}
