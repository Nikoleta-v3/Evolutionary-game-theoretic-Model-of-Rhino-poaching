{
 "cells": [
  {
   "cell_type": "code",
   "execution_count": 3,
   "metadata": {},
   "outputs": [],
   "source": [
    "import sympy as sym\n",
    "sym.init_printing()"
   ]
  },
  {
   "cell_type": "code",
   "execution_count": 97,
   "metadata": {
    "collapsed": true
   },
   "outputs": [],
   "source": [
    "import random\n",
    "import numpy as np"
   ]
  },
  {
   "cell_type": "code",
   "execution_count": 257,
   "metadata": {
    "collapsed": true
   },
   "outputs": [],
   "source": [
    "from sympy import oo"
   ]
  },
  {
   "cell_type": "code",
   "execution_count": 189,
   "metadata": {
    "collapsed": true
   },
   "outputs": [],
   "source": [
    "import matplotlib.pyplot as plt\n",
    "%matplotlib inline"
   ]
  },
  {
   "cell_type": "code",
   "execution_count": 259,
   "metadata": {
    "collapsed": true
   },
   "outputs": [],
   "source": [
    "r, t, k, i = sym.symbols('r, t, k, i')"
   ]
  },
  {
   "cell_type": "markdown",
   "metadata": {},
   "source": [
    "Math checks for me\n",
    "------------------"
   ]
  },
  {
   "cell_type": "code",
   "execution_count": 156,
   "metadata": {},
   "outputs": [],
   "source": [
    "rhs = (r - 1) ** 2\n",
    "lhs = (1 - r) ** 2"
   ]
  },
  {
   "cell_type": "code",
   "execution_count": 157,
   "metadata": {},
   "outputs": [
    {
     "data": {
      "text/plain": [
       "True"
      ]
     },
     "execution_count": 157,
     "metadata": {},
     "output_type": "execute_result"
    }
   ],
   "source": [
    "rhs.expand() == lhs.expand()"
   ]
  },
  {
   "cell_type": "code",
   "execution_count": 188,
   "metadata": {},
   "outputs": [
    {
     "data": {
      "image/png": "[encoded data removed]",
      "text/latex": [
       "$$- \\frac{t}{r - 1}$$"
      ],
      "text/plain": [
       " -t  \n",
       "─────\n",
       "r - 1"
      ]
     },
     "execution_count": 188,
     "metadata": {},
     "output_type": "execute_result"
    }
   ],
   "source": [
    "((1 - r) * t / (r - 1) ** 2).simplify()"
   ]
  },
  {
   "cell_type": "code",
   "execution_count": 254,
   "metadata": {},
   "outputs": [
    {
     "data": {
      "image/png": "[encoded data removed]",
      "text/latex": [
       "$$r^{2} t^{2} - 2 r t + 1$$"
      ],
      "text/plain": [
       " 2  2            \n",
       "r ⋅t  - 2⋅r⋅t + 1"
      ]
     },
     "execution_count": 254,
     "metadata": {},
     "output_type": "execute_result"
    }
   ],
   "source": [
    "((r * t - 1) ** 2).expand()"
   ]
  },
  {
   "cell_type": "markdown",
   "metadata": {},
   "source": [
    "First formulation (without t)\n",
    "-------------------\n"
   ]
  },
  {
   "cell_type": "code",
   "execution_count": 264,
   "metadata": {},
   "outputs": [],
   "source": [
    "selective = 1 / (1 - r)"
   ]
  },
  {
   "cell_type": "code",
   "execution_count": 286,
   "metadata": {},
   "outputs": [],
   "source": [
    "indiscriminate = ((1 - r) * sym.summation(i * r ** (i - 1), (i, 1, k)))"
   ]
  },
  {
   "cell_type": "code",
   "execution_count": 287,
   "metadata": {
    "collapsed": true
   },
   "outputs": [],
   "source": [
    "last_turn = (k + 1) * r ** k"
   ]
  },
  {
   "cell_type": "code",
   "execution_count": 288,
   "metadata": {},
   "outputs": [],
   "source": [
    "indiscriminate += last_turn"
   ]
  },
  {
   "cell_type": "code",
   "execution_count": 289,
   "metadata": {},
   "outputs": [
    {
     "data": {
      "image/png": "[encoded data removed]",
      "text/latex": [
       "$$\\frac{r^{k + 1} - 1}{r - 1}$$"
      ],
      "text/plain": [
       " k + 1    \n",
       "r      - 1\n",
       "──────────\n",
       "  r - 1   "
      ]
     },
     "execution_count": 289,
     "metadata": {},
     "output_type": "execute_result"
    }
   ],
   "source": [
    "indiscriminate.simplify()"
   ]
  },
  {
   "cell_type": "markdown",
   "metadata": {},
   "source": [
    "It can be seen that indiscriminate cost is always less with this formulation."
   ]
  },
  {
   "cell_type": "code",
   "execution_count": 290,
   "metadata": {},
   "outputs": [
    {
     "data": {
      "image/png": "[encoded data removed]",
      "text/latex": [
       "$$- \\frac{r^{k + 1}}{r - 1}$$"
      ],
      "text/plain": [
       "  k + 1 \n",
       "-r      \n",
       "────────\n",
       " r - 1  "
      ]
     },
     "execution_count": 290,
     "metadata": {},
     "output_type": "execute_result"
    }
   ],
   "source": [
    "(selective - indiscriminate.simplify()).simplify() "
   ]
  },
  {
   "cell_type": "markdown",
   "metadata": {},
   "source": [
    "Because $\\frac{r^{k + 1}}{1 - r}$ is always positive and non negative."
   ]
  },
  {
   "cell_type": "markdown",
   "metadata": {},
   "source": [
    "Selective (with t)\n",
    "---------"
   ]
  },
  {
   "cell_type": "markdown",
   "metadata": {},
   "source": [
    "For selective the model is simple. At each time step there is a $(1 - r)$ probability to get a rhino. If a selective gets a rhino then they need $t$ time to take the horn."
   ]
  },
  {
   "cell_type": "code",
   "execution_count": 291,
   "metadata": {
    "collapsed": true
   },
   "outputs": [],
   "source": [
    "def selective_risk(r, t):\n",
    "    return t / (1 - r)"
   ]
  },
  {
   "cell_type": "code",
   "execution_count": 292,
   "metadata": {},
   "outputs": [
    {
     "data": {
      "image/png": "[encoded data removed]",
      "text/latex": [
       "$$\\left ( 10.0, \\quad 16.666666666666664, \\quad 7.142857142857143\\right )$$"
      ],
      "text/plain": [
       "(10.0, 16.666666666666664, 7.142857142857143)"
      ]
     },
     "execution_count": 292,
     "metadata": {},
     "output_type": "execute_result"
    }
   ],
   "source": [
    "selective_risk(0.5, 5), selective_risk(0.7, 5), selective_risk(0.3, 5)"
   ]
  },
  {
   "cell_type": "code",
   "execution_count": 273,
   "metadata": {},
   "outputs": [],
   "source": [
    "def selective_risk_simulation(r, t):\n",
    "    N = 1\n",
    "    s = [1 - r]\n",
    "    while random.random() < (1 - r):\n",
    "        N += 1\n",
    "        s.append(N * r ** (N - 1) * (1 - r))\n",
    "    \n",
    "    return t * sum(s)"
   ]
  },
  {
   "cell_type": "code",
   "execution_count": 274,
   "metadata": {
    "collapsed": true
   },
   "outputs": [],
   "source": [
    "xs = range(1000)\n",
    "ys = []\n",
    "for _ in xs:\n",
    "    ys.append(selective_risk_simulation(0.5, 5))"
   ]
  },
  {
   "cell_type": "code",
   "execution_count": 275,
   "metadata": {},
   "outputs": [
    {
     "data": {
      "image/png": "[encoded data removed]",
      "text/plain": [
       "<matplotlib.figure.Figure at 0x7f6a320c6518>"
      ]
     },
     "metadata": {},
     "output_type": "display_data"
    }
   ],
   "source": [
    "plt.bar(xs, ys);"
   ]
  },
  {
   "cell_type": "code",
   "execution_count": 276,
   "metadata": {},
   "outputs": [
    {
     "data": {
      "image/png": "[encoded data removed]",
      "text/latex": [
       "$$\\left ( 4.56045166016, \\quad 9.9951171875\\right )$$"
      ],
      "text/plain": [
       "(4.56045166016, 9.9951171875)"
      ]
     },
     "execution_count": 276,
     "metadata": {},
     "output_type": "execute_result"
    }
   ],
   "source": [
    "np.mean(ys), np.max(ys)"
   ]
  },
  {
   "cell_type": "markdown",
   "metadata": {},
   "source": [
    "Indiscriminate (with t)\n",
    "-----------------------"
   ]
  },
  {
   "cell_type": "markdown",
   "metadata": {},
   "source": [
    "Indisciminate cost: \n",
    "    \n",
    "$$t (1 - r) \\sum_{i=1}^{k} i r ^{(i -1)} t ^{(i -1)} + (k + 1) r ^ k$$ \n",
    "\n",
    "where $$k = \\frac{1}{\\theta_r} - 1$$"
   ]
  },
  {
   "cell_type": "code",
   "execution_count": 317,
   "metadata": {},
   "outputs": [],
   "source": [
    "indiscriminate = (t * (1 - r) * sym.summation(i * r ** (i - 1) * t ** (i - 1), (i, 1, k)))"
   ]
  },
  {
   "cell_type": "code",
   "execution_count": 318,
   "metadata": {
    "collapsed": true
   },
   "outputs": [],
   "source": [
    "indiscriminate += last_turn"
   ]
  },
  {
   "cell_type": "code",
   "execution_count": 319,
   "metadata": {},
   "outputs": [
    {
     "data": {
      "image/png": "[encoded data removed]",
      "text/latex": [
       "$$\\frac{1}{\\left(r t - 1\\right)^{2}} \\left(r^{k} \\left(k + 1\\right) \\left(r t - 1\\right)^{2} - t \\left(r - 1\\right) \\left(- k r^{k} t^{k} + k r^{k + 1} t^{k + 1} - r^{k} t^{k} + 1\\right)\\right)$$"
      ],
      "text/plain": [
       " k                  2             ⎛     k  k      k + 1  k + 1    k  k    ⎞\n",
       "r ⋅(k + 1)⋅(r⋅t - 1)  - t⋅(r - 1)⋅⎝- k⋅r ⋅t  + k⋅r     ⋅t      - r ⋅t  + 1⎠\n",
       "───────────────────────────────────────────────────────────────────────────\n",
       "                                          2                                \n",
       "                                 (r⋅t - 1)                                 "
      ]
     },
     "execution_count": 319,
     "metadata": {},
     "output_type": "execute_result"
    }
   ],
   "source": [
    "indiscriminate.simplify()"
   ]
  },
  {
   "cell_type": "code",
   "execution_count": 311,
   "metadata": {},
   "outputs": [
    {
     "data": {
      "image/png": "[encoded data removed]",
      "text/latex": [
       "$$k + 1$$"
      ],
      "text/plain": [
       "k + 1"
      ]
     },
     "execution_count": 311,
     "metadata": {},
     "output_type": "execute_result"
    }
   ],
   "source": [
    "indiscriminate.subs({r: 1}).simplify()"
   ]
  },
  {
   "cell_type": "code",
   "execution_count": 313,
   "metadata": {},
   "outputs": [
    {
     "data": {
      "image/png": "[encoded data removed]",
      "text/latex": [
       "$$1$$"
      ],
      "text/plain": [
       "1"
      ]
     },
     "execution_count": 313,
     "metadata": {},
     "output_type": "execute_result"
    }
   ],
   "source": [
    "indiscriminate.subs({r: 0, k:0}).simplify()"
   ]
  },
  {
   "cell_type": "code",
   "execution_count": 322,
   "metadata": {
    "collapsed": true
   },
   "outputs": [],
   "source": [
    "def indiscriminate_risk_simulation(r, t, theta_r):\n",
    "    N = 1\n",
    "    s = [1 - r]\n",
    "    while random.random() < (1 - r):\n",
    "        N += 1\n",
    "        s.append(N * r ** (N - 1) * (1 - r) * t **(N - 1))\n",
    "        \n",
    "        if theta_r * N > 1:\n",
    "            return N * r ** (N - 1) * t ** (N - 1)\n",
    "    \n",
    "    return t * sum(s)"
   ]
  },
  {
   "cell_type": "code",
   "execution_count": null,
   "metadata": {
    "collapsed": true
   },
   "outputs": [],
   "source": []
  },
  {
   "cell_type": "code",
   "execution_count": null,
   "metadata": {
    "collapsed": true
   },
   "outputs": [],
   "source": []
  }
 ],
 "metadata": {
  "kernelspec": {
   "display_name": "rhino",
   "language": "python",
   "name": "rhino"
  },
  "language_info": {
   "codemirror_mode": {
    "name": "ipython",
    "version": 3
   },
   "file_extension": ".py",
   "mimetype": "text/x-python",
   "name": "python",
   "nbconvert_exporter": "python",
   "pygments_lexer": "ipython3",
   "version": "3.6.1"
  }
 },
 "nbformat": 4,
 "nbformat_minor": 2
}
