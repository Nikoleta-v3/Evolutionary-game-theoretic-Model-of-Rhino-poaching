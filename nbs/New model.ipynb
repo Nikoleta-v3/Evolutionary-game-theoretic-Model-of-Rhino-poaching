{
 "cells": [
  {
   "cell_type": "code",
   "execution_count": 1,
   "metadata": {},
   "outputs": [],
   "source": [
    "import sympy as sym\n",
    "sym.init_printing()"
   ]
  },
  {
   "cell_type": "code",
   "execution_count": 2,
   "metadata": {},
   "outputs": [],
   "source": [
    "import random\n",
    "import numpy as np"
   ]
  },
  {
   "cell_type": "code",
   "execution_count": 3,
   "metadata": {},
   "outputs": [],
   "source": [
    "from sympy import oo"
   ]
  },
  {
   "cell_type": "code",
   "execution_count": 4,
   "metadata": {},
   "outputs": [],
   "source": [
    "import matplotlib.pyplot as plt\n",
    "%matplotlib inline"
   ]
  },
  {
   "cell_type": "code",
   "execution_count": 5,
   "metadata": {},
   "outputs": [],
   "source": [
    "r, t, k, i = sym.symbols('r, t, k, i')"
   ]
  },
  {
   "cell_type": "markdown",
   "metadata": {},
   "source": [
    "Math checks for me\n",
    "------------------"
   ]
  },
  {
   "cell_type": "code",
   "execution_count": 6,
   "metadata": {},
   "outputs": [],
   "source": [
    "rhs = (r - 1) ** 2\n",
    "lhs = (1 - r) ** 2"
   ]
  },
  {
   "cell_type": "code",
   "execution_count": 7,
   "metadata": {},
   "outputs": [
    {
     "data": {
      "text/plain": [
       "True"
      ]
     },
     "execution_count": 7,
     "metadata": {},
     "output_type": "execute_result"
    }
   ],
   "source": [
    "rhs.expand() == lhs.expand()"
   ]
  },
  {
   "cell_type": "code",
   "execution_count": 8,
   "metadata": {},
   "outputs": [
    {
     "data": {
      "image/png": "[encoded data removed]",
      "text/latex": [
       "$$- \\frac{t}{r - 1}$$"
      ],
      "text/plain": [
       " -t  \n",
       "─────\n",
       "r - 1"
      ]
     },
     "execution_count": 8,
     "metadata": {},
     "output_type": "execute_result"
    }
   ],
   "source": [
    "((1 - r) * t / (r - 1) ** 2).simplify()"
   ]
  },
  {
   "cell_type": "code",
   "execution_count": 9,
   "metadata": {},
   "outputs": [
    {
     "data": {
      "image/png": "[encoded data removed]",
      "text/latex": [
       "$$r^{2} t^{2} - 2 r t + 1$$"
      ],
      "text/plain": [
       " 2  2            \n",
       "r ⋅t  - 2⋅r⋅t + 1"
      ]
     },
     "execution_count": 9,
     "metadata": {},
     "output_type": "execute_result"
    }
   ],
   "source": [
    "((r * t - 1) ** 2).expand()"
   ]
  },
  {
   "cell_type": "markdown",
   "metadata": {},
   "source": [
    "First formulation (without t)\n",
    "-------------------\n"
   ]
  },
  {
   "cell_type": "code",
   "execution_count": 10,
   "metadata": {},
   "outputs": [],
   "source": [
    "selective = 1 / (1 - r)"
   ]
  },
  {
   "cell_type": "code",
   "execution_count": 11,
   "metadata": {},
   "outputs": [],
   "source": [
    "indiscriminate = ((1 - r) * sym.summation(i * r ** (i - 1), (i, 1, k)))"
   ]
  },
  {
   "cell_type": "code",
   "execution_count": 12,
   "metadata": {},
   "outputs": [],
   "source": [
    "last_turn = (k + 1) * r ** k"
   ]
  },
  {
   "cell_type": "code",
   "execution_count": 13,
   "metadata": {},
   "outputs": [],
   "source": [
    "indiscriminate += last_turn"
   ]
  },
  {
   "cell_type": "code",
   "execution_count": 14,
   "metadata": {},
   "outputs": [
    {
     "data": {
      "image/png": "[encoded data removed]",
      "text/latex": [
       "$$\\frac{r^{k + 1} - 1}{r - 1}$$"
      ],
      "text/plain": [
       " k + 1    \n",
       "r      - 1\n",
       "──────────\n",
       "  r - 1   "
      ]
     },
     "execution_count": 14,
     "metadata": {},
     "output_type": "execute_result"
    }
   ],
   "source": [
    "indiscriminate.simplify()"
   ]
  },
  {
   "cell_type": "markdown",
   "metadata": {},
   "source": [
    "It can be seen that indiscriminate cost is always less with this formulation."
   ]
  },
  {
   "cell_type": "code",
   "execution_count": 15,
   "metadata": {},
   "outputs": [
    {
     "data": {
      "image/png": "[encoded data removed]",
      "text/latex": [
       "$$- \\frac{r^{k + 1}}{r - 1}$$"
      ],
      "text/plain": [
       "  k + 1 \n",
       "-r      \n",
       "────────\n",
       " r - 1  "
      ]
     },
     "execution_count": 15,
     "metadata": {},
     "output_type": "execute_result"
    }
   ],
   "source": [
    "(selective - indiscriminate.simplify()).simplify() "
   ]
  },
  {
   "cell_type": "markdown",
   "metadata": {},
   "source": [
    "Because $\\frac{r^{k + 1}}{1 - r}$ is always positive and non negative."
   ]
  },
  {
   "cell_type": "markdown",
   "metadata": {},
   "source": [
    "Selective (with t)\n",
    "---------"
   ]
  },
  {
   "cell_type": "markdown",
   "metadata": {},
   "source": [
    "For selective the model is simple. At each time step there is a $(1 - r)$ probability to get a rhino. If a selective gets a rhino then they need $t$ time to take the horn."
   ]
  },
  {
   "cell_type": "markdown",
   "metadata": {},
   "source": [
    "Thus $T_s = (1 - r) t + r (1 - r) (1 + t) + r ^ 2 (1- r)(2 + t) \\dots$\n",
    "\n",
    "which can be written as:\n",
    "\n",
    "$$(1 - r) \\sum_{i=0} ^ {\\infty} r ^ i (i + t)$$"
   ]
  },
  {
   "cell_type": "code",
   "execution_count": 43,
   "metadata": {},
   "outputs": [
    {
     "data": {
      "image/png": "[encoded data removed]",
      "text/latex": [
       "$$- \\left(r - 1\\right) \\left(t \\left(\\begin{cases} - \\frac{1}{r - 1} & \\text{for}\\: \\left|{r}\\right| < 1 \\\\\\sum_{i=0}^{\\infty} r^{i} & \\text{otherwise} \\end{cases}\\right) + \\begin{cases} \\frac{r}{\\left(r - 1\\right)^{2}} & \\text{for}\\: \\left|{r}\\right| < 1 \\\\\\sum_{i=0}^{\\infty} i r^{i} & \\text{otherwise} \\end{cases}\\right)$$"
      ],
      "text/plain": [
       "         ⎛  ⎛⎧  -1                 ⎞   ⎛⎧    r                  ⎞⎞\n",
       "         ⎜  ⎜⎪ ─────    for │r│ < 1⎟   ⎜⎪ ────────   for │r│ < 1⎟⎟\n",
       "         ⎜  ⎜⎪ r - 1               ⎟   ⎜⎪        2              ⎟⎟\n",
       "         ⎜  ⎜⎪                     ⎟   ⎜⎪ (r - 1)               ⎟⎟\n",
       "         ⎜  ⎜⎪  ∞                  ⎟   ⎜⎪                       ⎟⎟\n",
       "         ⎜  ⎜⎪ ___                 ⎟   ⎜⎪  ∞                    ⎟⎟\n",
       "-(r - 1)⋅⎜t⋅⎜⎨ ╲                   ⎟ + ⎜⎨ ___                   ⎟⎟\n",
       "         ⎜  ⎜⎪  ╲    i             ⎟   ⎜⎪ ╲                     ⎟⎟\n",
       "         ⎜  ⎜⎪  ╱   r    otherwise ⎟   ⎜⎪  ╲      i             ⎟⎟\n",
       "         ⎜  ⎜⎪ ╱                   ⎟   ⎜⎪  ╱   i⋅r    otherwise ⎟⎟\n",
       "         ⎜  ⎜⎪ ‾‾‾                 ⎟   ⎜⎪ ╱                     ⎟⎟\n",
       "         ⎜  ⎜⎪i = 0                ⎟   ⎜⎪ ‾‾‾                   ⎟⎟\n",
       "         ⎝  ⎝⎩                     ⎠   ⎝⎩i = 0                  ⎠⎠"
      ]
     },
     "execution_count": 43,
     "metadata": {},
     "output_type": "execute_result"
    }
   ],
   "source": [
    "selective_risk = (1 - r) * sym.summation(r ** (i) * (i + t), (i, 0, oo))\n",
    "selective_risk.simplify()"
   ]
  },
  {
   "cell_type": "markdown",
   "metadata": {},
   "source": [
    "## Because $|r| < 1$:\n",
    "\n",
    "$$T_s = \\frac{r + t(1 - r)}{(1 - r)}$$"
   ]
  },
  {
   "cell_type": "code",
   "execution_count": 44,
   "metadata": {},
   "outputs": [],
   "source": [
    "exprs = (-r / (r - 1) + t).simplify()"
   ]
  },
  {
   "cell_type": "code",
   "execution_count": 45,
   "metadata": {},
   "outputs": [],
   "source": [
    "def selective_risk(r_val, t_val):\n",
    "    return (r_val + t_val * (1 - r_val)) / (1 - r_val)"
   ]
  },
  {
   "cell_type": "code",
   "execution_count": 46,
   "metadata": {},
   "outputs": [
    {
     "data": {
      "image/png": "[encoded data removed]",
      "text/latex": [
       "$$\\frac{r + t \\left(- r + 1\\right)}{- r + 1}$$"
      ],
      "text/plain": [
       "r + t⋅(-r + 1)\n",
       "──────────────\n",
       "    -r + 1    "
      ]
     },
     "execution_count": 46,
     "metadata": {},
     "output_type": "execute_result"
    }
   ],
   "source": [
    "selective_risk(r, t)"
   ]
  },
  {
   "cell_type": "code",
   "execution_count": 47,
   "metadata": {},
   "outputs": [
    {
     "data": {
      "image/png": "[encoded data removed]",
      "text/latex": [
       "$$0$$"
      ],
      "text/plain": [
       "0"
      ]
     },
     "execution_count": 47,
     "metadata": {},
     "output_type": "execute_result"
    }
   ],
   "source": [
    "(selective_risk(r, t) - exprs).factor()"
   ]
  },
  {
   "cell_type": "markdown",
   "metadata": {},
   "source": [
    "**Behaviour of risk depending on $r$**"
   ]
  },
  {
   "cell_type": "code",
   "execution_count": 48,
   "metadata": {},
   "outputs": [],
   "source": [
    "rs = np.linspace(0, 0.99, 100)\n",
    "t_val = 1\n",
    "ys = [selective_risk(r_val, t_val) for r_val in rs]"
   ]
  },
  {
   "cell_type": "code",
   "execution_count": 49,
   "metadata": {},
   "outputs": [
    {
     "data": {
      "image/png": "[encoded data removed]",
      "text/plain": [
       "<Figure size 432x288 with 1 Axes>"
      ]
     },
     "metadata": {},
     "output_type": "display_data"
    }
   ],
   "source": [
    "plt.plot(ys);"
   ]
  },
  {
   "cell_type": "markdown",
   "metadata": {},
   "source": [
    "**Behaviour of risk for $t= 1$**"
   ]
  },
  {
   "cell_type": "code",
   "execution_count": 50,
   "metadata": {},
   "outputs": [
    {
     "data": {
      "image/png": "[encoded data removed]",
      "text/latex": [
       "$$\\frac{1}{- r + 1}$$"
      ],
      "text/plain": [
       "  1   \n",
       "──────\n",
       "-r + 1"
      ]
     },
     "execution_count": 50,
     "metadata": {},
     "output_type": "execute_result"
    }
   ],
   "source": [
    "selective_risk(r, 1)"
   ]
  },
  {
   "cell_type": "markdown",
   "metadata": {},
   "source": [
    "**Simulation of selective risk**"
   ]
  },
  {
   "cell_type": "code",
   "execution_count": 73,
   "metadata": {},
   "outputs": [],
   "source": [
    "def selective_risk_simulation(r_val, t_val, seed):\n",
    "    sequence = [(1 - r_val) * t_val]\n",
    "    s_i = 0\n",
    "    np.random.seed(seed)\n",
    "    while np.random.choice([True, False], p=[(1 - r_val), r_val]) == False:\n",
    "        s_i += 1\n",
    "        sequence.append((1 - r_val) * r_val ** s_i * (s_i + t_val))\n",
    "    return sum(sequence)"
   ]
  },
  {
   "cell_type": "code",
   "execution_count": 78,
   "metadata": {},
   "outputs": [],
   "source": [
    "timesteps = range(10000)\n",
    "ys = []\n",
    "for timestep in timesteps:\n",
    "    ys.append(selective_risk_simulation(0.60, 0.5, seed=timestep))"
   ]
  },
  {
   "cell_type": "code",
   "execution_count": 79,
   "metadata": {},
   "outputs": [
    {
     "data": {
      "image/png": "[encoded data removed]",
      "text/plain": [
       "<Figure size 432x288 with 1 Axes>"
      ]
     },
     "metadata": {},
     "output_type": "display_data"
    }
   ],
   "source": [
    "plt.hist(ys);\n",
    "plt.axvline(np.mean(ys), color='red');\n",
    "plt.axvline(selective_risk(0.6, 0.5), color='orange');"
   ]
  },
  {
   "cell_type": "markdown",
   "metadata": {},
   "source": [
    "Indiscriminate (with t)\n",
    "-----------------------"
   ]
  },
  {
   "cell_type": "markdown",
   "metadata": {},
   "source": [
    "$T_d = t (1 - r) + 2rt (1 - r) + 3r^{2}t(1 - r)+ \\dots + (\\frac{1}{\\theta_r} - 1)r ^ {\\frac{1}{\\theta_r} - 2} + \\frac{1}{\\theta_r} r ^ {\\frac{1}{\\theta_r} - 1}$"
   ]
  },
  {
   "cell_type": "markdown",
   "metadata": {},
   "source": [
    "which can be writen as:\n",
    "    \n",
    "$$T_d = t (1 - r) \\sum_{i=1}^{N_r - 1} i r ^{i - 1} + N_r t r ^ {(N_r - 1)}$$ \n",
    "\n",
    "where $$N_r = \\frac{1}{\\theta_r}$$"
   ]
  },
  {
   "cell_type": "code",
   "execution_count": 91,
   "metadata": {},
   "outputs": [],
   "source": [
    "N_r = sym.symbols('N_r')"
   ]
  },
  {
   "cell_type": "code",
   "execution_count": 92,
   "metadata": {},
   "outputs": [
    {
     "data": {
      "image/png": "[encoded data removed]",
      "text/latex": [
       "$$\\frac{1}{r \\left(r - 1\\right)^{2}} \\left(N_{r} r r^{N_{r}} - N_{r} r^{N_{r}} - r r^{N_{r}} + r\\right)$$"
      ],
      "text/plain": [
       "      Nᵣ       Nᵣ      Nᵣ    \n",
       "Nᵣ⋅r⋅r   - Nᵣ⋅r   - r⋅r   + r\n",
       "─────────────────────────────\n",
       "                   2         \n",
       "          r⋅(r - 1)          "
      ]
     },
     "execution_count": 92,
     "metadata": {},
     "output_type": "execute_result"
    }
   ],
   "source": [
    "sym.summation(i * r ** (i - 1), (i, 1, N_r - 1))"
   ]
  },
  {
   "cell_type": "code",
   "execution_count": 93,
   "metadata": {},
   "outputs": [
    {
     "data": {
      "image/png": "[encoded data removed]",
      "text/latex": [
       "$$N_{r} r^{N_{r} - 1} t$$"
      ],
      "text/plain": [
       "    Nᵣ - 1  \n",
       "Nᵣ⋅r      ⋅t"
      ]
     },
     "execution_count": 93,
     "metadata": {},
     "output_type": "execute_result"
    }
   ],
   "source": [
    "force_exist = N_r * r ** (N_r - 1) * t\n",
    "force_exist"
   ]
  },
  {
   "cell_type": "code",
   "execution_count": 94,
   "metadata": {},
   "outputs": [],
   "source": [
    "indiscriminate = (t * (1 - r) * sym.summation(i * r ** (i), (i, 0, N_r - 2)))"
   ]
  },
  {
   "cell_type": "code",
   "execution_count": 95,
   "metadata": {},
   "outputs": [],
   "source": [
    "indiscriminate += force_exist "
   ]
  },
  {
   "cell_type": "code",
   "execution_count": 96,
   "metadata": {},
   "outputs": [
    {
     "data": {
      "image/png": "[encoded data removed]",
      "text/latex": [
       "$$- \\frac{t}{r \\left(r - 1\\right)} \\left(r^{2} + r^{N_{r}} - 2 r^{N_{r} + 1}\\right)$$"
      ],
      "text/plain": [
       "   ⎛ 2    Nᵣ      Nᵣ + 1⎞ \n",
       "-t⋅⎝r  + r   - 2⋅r      ⎠ \n",
       "──────────────────────────\n",
       "        r⋅(r - 1)         "
      ]
     },
     "execution_count": 96,
     "metadata": {},
     "output_type": "execute_result"
    }
   ],
   "source": [
    "indiscriminate.simplify()"
   ]
  },
  {
   "cell_type": "code",
   "execution_count": 113,
   "metadata": {},
   "outputs": [],
   "source": [
    "def indiscriminate_risk(r_val, t_val, theta_r_val):\n",
    "    N_r_val = 1 / theta_r_val\n",
    "    return t_val * (r_val ** 2 + r_val ** N_r_val - 2 * r_val ** (N_r_val + 1))"
   ]
  },
  {
   "cell_type": "markdown",
   "metadata": {},
   "source": [
    "**Behaviour of risk depending on $r$**"
   ]
  },
  {
   "cell_type": "code",
   "execution_count": 114,
   "metadata": {},
   "outputs": [],
   "source": [
    "rs = np.linspace(0, 0.99, 100)\n",
    "t_val = 1\n",
    "ys = [indiscriminate_risk(r_val, t_val, 0.3) for r_val in rs]"
   ]
  },
  {
   "cell_type": "code",
   "execution_count": 115,
   "metadata": {},
   "outputs": [
    {
     "data": {
      "image/png": "[encoded data removed]",
      "text/plain": [
       "<Figure size 432x288 with 1 Axes>"
      ]
     },
     "metadata": {},
     "output_type": "display_data"
    }
   ],
   "source": [
    "plt.plot(ys);"
   ]
  },
  {
   "cell_type": "markdown",
   "metadata": {},
   "source": [
    "**Behaviour of risk for $t= 1$**"
   ]
  },
  {
   "cell_type": "code",
   "execution_count": 116,
   "metadata": {},
   "outputs": [],
   "source": [
    "theta_r = sym.symbols(r'\\theta_r')"
   ]
  },
  {
   "cell_type": "code",
   "execution_count": 117,
   "metadata": {},
   "outputs": [
    {
     "data": {
      "image/png": "[encoded data removed]",
      "text/latex": [
       "$$r^{2} - 2 r r^{\\frac{1}{\\theta_r}} + r^{\\frac{1}{\\theta_r}}$$"
      ],
      "text/plain": [
       " 2       \\theta_r___   \\theta_r___\n",
       "r  - 2⋅r⋅      ╲╱ r  +       ╲╱ r "
      ]
     },
     "execution_count": 117,
     "metadata": {},
     "output_type": "execute_result"
    }
   ],
   "source": [
    "indiscriminate_risk(r_val=r, t_val=1, theta_r_val=theta_r).factor()"
   ]
  },
  {
   "cell_type": "markdown",
   "metadata": {},
   "source": [
    "**Simulate**"
   ]
  },
  {
   "cell_type": "code",
   "execution_count": 124,
   "metadata": {},
   "outputs": [],
   "source": [
    "def indiscriminate_risk_simulation(r_val, t_val, theta_r_val, seed):\n",
    "    sequence = [(1 - r_val) * t_val * r_val]\n",
    "    s_i = 0\n",
    "    np.random.seed(seed)\n",
    "    while np.random.choice([True, False], p=[(1 - r_val), r_val]) == False:\n",
    "        if s_i * theta_r_val >= 1:\n",
    "            return sum(sequence) + (1 / theta_r_val) * r_val ** ((1 / theta_r_val) - 1)\n",
    "        s_i += 1\n",
    "        sequence.append((1 - r_val) * r_val ** (s_i - 1) * t_val)\n",
    "    return sum(sequence)"
   ]
  },
  {
   "cell_type": "code",
   "execution_count": 125,
   "metadata": {},
   "outputs": [],
   "source": [
    "timesteps = range(300)\n",
    "ys = []\n",
    "for timestep in timesteps:\n",
    "    ys.append(indiscriminate_risk_simulation(0.6, 0.5, 0.1, timestep))"
   ]
  },
  {
   "cell_type": "code",
   "execution_count": 129,
   "metadata": {},
   "outputs": [
    {
     "data": {
      "image/png": "[encoded data removed]",
      "text/plain": [
       "<Figure size 432x288 with 1 Axes>"
      ]
     },
     "metadata": {},
     "output_type": "display_data"
    }
   ],
   "source": [
    "plt.hist(ys);\n",
    "plt.axvline(np.mean(ys), color='red');\n",
    "plt.axvline(indiscriminate_risk(0.6, 0.5, 0.1), color='orange');"
   ]
  },
  {
   "cell_type": "code",
   "execution_count": null,
   "metadata": {
    "collapsed": true
   },
   "outputs": [],
   "source": []
  },
  {
   "cell_type": "code",
   "execution_count": null,
   "metadata": {
    "collapsed": true
   },
   "outputs": [],
   "source": []
  }
 ],
 "metadata": {
  "kernelspec": {
   "display_name": "opt-mo",
   "language": "python",
   "name": "opt-mo"
  },
  "language_info": {
   "codemirror_mode": {
    "name": "ipython",
    "version": 3
   },
   "file_extension": ".py",
   "mimetype": "text/x-python",
   "name": "python",
   "nbconvert_exporter": "python",
   "pygments_lexer": "ipython3",
   "version": "3.5.5"
  }
 },
 "nbformat": 4,
 "nbformat_minor": 2
}
