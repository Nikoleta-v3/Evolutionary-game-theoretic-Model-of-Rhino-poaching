{
 "cells": [
  {
   "cell_type": "code",
   "execution_count": 1,
   "metadata": {
    "collapsed": true
   },
   "outputs": [],
   "source": [
    "import sympy as sym\n",
    "\n",
    "sym.init_printing()"
   ]
  },
  {
   "cell_type": "code",
   "execution_count": 2,
   "metadata": {
    "collapsed": true
   },
   "outputs": [],
   "source": [
    "theta_r, r, H, alpha = sym.symbols(\"theta_r, r, H, alpha\")"
   ]
  },
  {
   "cell_type": "code",
   "execution_count": 11,
   "metadata": {
    "collapsed": true
   },
   "outputs": [],
   "source": [
    "F, beta, gamma = sym.symbols(\"F, beta, gamma\")"
   ]
  },
  {
   "cell_type": "code",
   "execution_count": 7,
   "metadata": {
    "collapsed": true
   },
   "outputs": [],
   "source": [
    "bound = (theta_r * r * H) / ((1 - r) ** alpha)"
   ]
  },
  {
   "cell_type": "code",
   "execution_count": 8,
   "metadata": {},
   "outputs": [
    {
     "data": {
      "image/png": "[encoded data removed]",
      "text/latex": [
       "$$H r \\theta_{r} \\left(- r + 1\\right)^{- \\alpha}$$"
      ],
      "text/plain": [
       "               -α\n",
       "H⋅r⋅θᵣ⋅(-r + 1)  "
      ]
     },
     "execution_count": 8,
     "metadata": {},
     "output_type": "execute_result"
    }
   ],
   "source": [
    "bound"
   ]
  },
  {
   "cell_type": "code",
   "execution_count": 9,
   "metadata": {},
   "outputs": [
    {
     "data": {
      "image/png": "[encoded data removed]",
      "text/latex": [
       "$$H \\theta_{r} \\left(- r + 1\\right)^{- \\alpha - 1} \\left(r \\left(\\alpha - 1\\right) + 1\\right)$$"
      ],
      "text/plain": [
       "             -α - 1                \n",
       "H⋅θᵣ⋅(-r + 1)      ⋅(r⋅(α - 1) + 1)"
      ]
     },
     "execution_count": 9,
     "metadata": {},
     "output_type": "execute_result"
    }
   ],
   "source": [
    "sym.diff(bound, r).simplify().collect(r)"
   ]
  },
  {
   "cell_type": "code",
   "execution_count": 13,
   "metadata": {},
   "outputs": [],
   "source": [
    "true_bound = r * (theta_r * r * H - F * (1 -r) ** (gamma + beta + alpha -1)) / ((1 - r) ** alpha) "
   ]
  },
  {
   "cell_type": "code",
   "execution_count": 20,
   "metadata": {},
   "outputs": [
    {
     "data": {
      "image/png": "[encoded data removed]",
      "text/latex": [
       "$$\\frac{\\left(- r + 1\\right)^{- \\alpha}}{\\left(r - 1\\right)^{2}} \\left(- \\frac{F \\beta^{2} r \\left(- r + 1\\right)^{\\alpha}}{- r + 1} \\left(- r + 1\\right)^{\\beta} \\left(- r + 1\\right)^{\\gamma} - \\frac{2 F \\beta \\gamma r}{- r + 1} \\left(- r + 1\\right)^{\\alpha} \\left(- r + 1\\right)^{\\beta} \\left(- r + 1\\right)^{\\gamma} + \\frac{F \\beta r \\left(- r + 1\\right)^{\\alpha}}{- r + 1} \\left(- r + 1\\right)^{\\beta} \\left(- r + 1\\right)^{\\gamma} + \\frac{2 F \\beta \\left(- r + 1\\right)^{\\alpha}}{- r + 1} \\left(- r + 1\\right)^{\\beta} \\left(- r + 1\\right)^{\\gamma} - \\frac{F \\gamma^{2} r \\left(- r + 1\\right)^{\\alpha}}{- r + 1} \\left(- r + 1\\right)^{\\beta} \\left(- r + 1\\right)^{\\gamma} + \\frac{F \\gamma r \\left(- r + 1\\right)^{\\alpha}}{- r + 1} \\left(- r + 1\\right)^{\\beta} \\left(- r + 1\\right)^{\\gamma} + \\frac{2 F \\gamma \\left(- r + 1\\right)^{\\alpha}}{- r + 1} \\left(- r + 1\\right)^{\\beta} \\left(- r + 1\\right)^{\\gamma} - \\frac{2 F \\left(- r + 1\\right)^{\\alpha}}{- r + 1} \\left(- r + 1\\right)^{\\beta} \\left(- r + 1\\right)^{\\gamma} + H \\alpha^{2} r^{2} \\theta_{r} - 3 H \\alpha r^{2} \\theta_{r} + 4 H \\alpha r \\theta_{r} + 2 H r^{2} \\theta_{r} - 4 H r \\theta_{r} + 2 H \\theta_{r}\\right)$$"
      ],
      "text/plain": [
       "           ⎛     2           α         β         γ                     α      \n",
       "        -α ⎜  F⋅β ⋅r⋅(-r + 1) ⋅(-r + 1) ⋅(-r + 1)    2⋅F⋅β⋅γ⋅r⋅(-r + 1) ⋅(-r +\n",
       "(-r + 1)  ⋅⎜- ──────────────────────────────────── - ─────────────────────────\n",
       "           ⎝                 -r + 1                                   -r + 1  \n",
       "──────────────────────────────────────────────────────────────────────────────\n",
       "                                                                              \n",
       "                                                                              \n",
       "\n",
       "   β         γ                 α         β         γ                 α        \n",
       " 1) ⋅(-r + 1)    F⋅β⋅r⋅(-r + 1) ⋅(-r + 1) ⋅(-r + 1)    2⋅F⋅β⋅(-r + 1) ⋅(-r + 1\n",
       "────────────── + ─────────────────────────────────── + ───────────────────────\n",
       "                                -r + 1                                -r + 1  \n",
       "──────────────────────────────────────────────────────────────────────────────\n",
       "                                                                              \n",
       "                                                                              \n",
       "\n",
       " β         γ      2           α         β         γ                 α         \n",
       ") ⋅(-r + 1)    F⋅γ ⋅r⋅(-r + 1) ⋅(-r + 1) ⋅(-r + 1)    F⋅γ⋅r⋅(-r + 1) ⋅(-r + 1)\n",
       "──────────── - ──────────────────────────────────── + ────────────────────────\n",
       "                              -r + 1                                 -r + 1   \n",
       "──────────────────────────────────────────────────────────────────────────────\n",
       "                                           2                                  \n",
       "                                    (r - 1)                                   \n",
       "\n",
       "β         γ                 α         β         γ               α         β   \n",
       " ⋅(-r + 1)    2⋅F⋅γ⋅(-r + 1) ⋅(-r + 1) ⋅(-r + 1)    2⋅F⋅(-r + 1) ⋅(-r + 1) ⋅(-\n",
       "─────────── + ─────────────────────────────────── - ──────────────────────────\n",
       "                             -r + 1                               -r + 1      \n",
       "──────────────────────────────────────────────────────────────────────────────\n",
       "                                                                              \n",
       "                                                                              \n",
       "\n",
       "      γ                                                                       \n",
       "r + 1)       2  2             2                        2                      \n",
       "─────── + H⋅α ⋅r ⋅θᵣ - 3⋅H⋅α⋅r ⋅θᵣ + 4⋅H⋅α⋅r⋅θᵣ + 2⋅H⋅r ⋅θᵣ - 4⋅H⋅r⋅θᵣ + 2⋅H⋅θ\n",
       "                                                                              \n",
       "──────────────────────────────────────────────────────────────────────────────\n",
       "                                                                              \n",
       "                                                                              \n",
       "\n",
       " ⎞\n",
       " ⎟\n",
       "ᵣ⎟\n",
       " ⎠\n",
       "──\n",
       "  \n",
       "  "
      ]
     },
     "execution_count": 20,
     "metadata": {},
     "output_type": "execute_result"
    }
   ],
   "source": [
    "sym.diff(true_bound, r, 2).factor()"
   ]
  },
  {
   "cell_type": "code",
   "execution_count": 19,
   "metadata": {},
   "outputs": [
    {
     "data": {
      "image/png": "[encoded data removed]",
      "text/latex": [
       "$$\\left(- r + 1\\right)^{- 2 \\alpha - 1} \\left(- r \\left(- r + 1\\right)^{\\alpha} \\left(- F \\left(- r + 1\\right)^{\\alpha + \\beta + \\gamma - 1} \\left(\\alpha + \\beta + \\gamma - 1\\right) + H \\theta_{r} \\left(r - 1\\right) + \\alpha \\left(F \\left(- r + 1\\right)^{\\alpha + \\beta + \\gamma - 1} - H r \\theta_{r}\\right)\\right) + \\left(- r + 1\\right)^{\\alpha + 1} \\left(- F \\left(- r + 1\\right)^{\\alpha + \\beta + \\gamma - 1} + H r \\theta_{r}\\right)\\right)$$"
      ],
      "text/plain": [
       "        -2⋅α - 1 ⎛            α ⎛            α + β + γ - 1                    \n",
       "(-r + 1)        ⋅⎝- r⋅(-r + 1) ⋅⎝- F⋅(-r + 1)             ⋅(α + β + γ - 1) + H\n",
       "\n",
       "                ⎛          α + β + γ - 1         ⎞⎞           α + 1 ⎛         \n",
       "⋅θᵣ⋅(r - 1) + α⋅⎝F⋅(-r + 1)              - H⋅r⋅θᵣ⎠⎠ + (-r + 1)     ⋅⎝- F⋅(-r +\n",
       "\n",
       "   α + β + γ - 1         ⎞⎞\n",
       " 1)              + H⋅r⋅θᵣ⎠⎠"
      ]
     },
     "execution_count": 19,
     "metadata": {},
     "output_type": "execute_result"
    }
   ],
   "source": [
    "sym.diff(true_bound, r).simplify()"
   ]
  },
  {
   "cell_type": "code",
   "execution_count": null,
   "metadata": {
    "collapsed": true
   },
   "outputs": [],
   "source": []
  }
 ],
 "metadata": {
  "anaconda-cloud": {},
  "kernelspec": {
   "display_name": "Python [conda env:rhino]",
   "language": "python",
   "name": "conda-env-rhino-py"
  },
  "language_info": {
   "codemirror_mode": {
    "name": "ipython",
    "version": 3
   },
   "file_extension": ".py",
   "mimetype": "text/x-python",
   "name": "python",
   "nbconvert_exporter": "python",
   "pygments_lexer": "ipython3",
   "version": "3.6.1"
  }
 },
 "nbformat": 4,
 "nbformat_minor": 2
}
