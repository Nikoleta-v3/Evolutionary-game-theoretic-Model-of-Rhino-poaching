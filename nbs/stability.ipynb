{
 "cells": [
  {
   "cell_type": "markdown",
   "metadata": {},
   "source": [
    "# A notebook to check the stability of the strategies"
   ]
  },
  {
   "cell_type": "code",
   "execution_count": 1,
   "metadata": {
    "collapsed": true
   },
   "outputs": [],
   "source": [
    "import sympy as sym\n",
    "import scipy as sp\n",
    "import numpy as np\n",
    "\n",
    "from scipy.optimize import brentq\n",
    "\n",
    "import imp\n",
    "tools = imp.load_source('tools', '../tools.py')\n",
    "\n",
    "sym.init_printing()\n",
    "\n",
    "assert sym.__version__ == \"1.0\"\n",
    "assert sp.__version__ == \"0.19.0\"\n",
    "assert np.__version__ == \"1.12.1\""
   ]
  },
  {
   "cell_type": "code",
   "execution_count": 2,
   "metadata": {
    "collapsed": true
   },
   "outputs": [],
   "source": [
    "#import matplotlib\n",
    "import matplotlib.pyplot as plt\n",
    "\n",
    "%matplotlib inline"
   ]
  },
  {
   "cell_type": "markdown",
   "metadata": {},
   "source": [
    "# Stability of all selective\n",
    "\n",
    "Two things are calculated here.The utility of being selective in a population \n",
    "of selective poarchers and the utility of being indiscriminating in the same population.\n",
    "Thus,\n",
    "\n",
    "- $u((1, 0), (1, 0))$\n",
    "- $u((0, 1), (1, 0))$\n",
    "\n",
    "In order for the strategy being `selective' to be stable $u((1, 0), (1, 0))$ must be greater than $u((0, 1), (1, 0))$."
   ]
  },
  {
   "cell_type": "markdown",
   "metadata": {},
   "source": [
    "Thus let\n",
    "\n",
    "- $ \\chi = (1, 0)$\n",
    "- $s^* = (1, 0)$\n",
    "- $s = (0, 1)$"
   ]
  },
  {
   "cell_type": "code",
   "execution_count": 3,
   "metadata": {
    "collapsed": false
   },
   "outputs": [
    {
     "data": {
      "image/png": "[encoded data removed]",
      "text/latex": [
       "$$\\frac{F \\left(r - 1\\right)}{\\left(- r + 1\\right)^{\\gamma}} + \\frac{H \\left(- r + 1\\right)}{\\left(- r + 1\\right)^{\\alpha}} - \\frac{R}{\\left(- r + 1\\right)^{\\beta}}$$"
      ],
      "text/plain": [
       "          -γ                              -α             -β\n",
       "F⋅(-r + 1)  ⋅(r - 1) + H⋅(-r + 1)⋅(-r + 1)   - R⋅(-r + 1)  "
      ]
     },
     "execution_count": 3,
     "metadata": {},
     "output_type": "execute_result"
    }
   ],
   "source": [
    "utility_s = tools.utility(1, 1)\n",
    "utility_s"
   ]
  },
  {
   "cell_type": "code",
   "execution_count": 4,
   "metadata": {
    "collapsed": false
   },
   "outputs": [
    {
     "data": {
      "image/png": "[encoded data removed]",
      "text/latex": [
       "$$- \\frac{F}{\\left(- r + 1\\right)^{\\gamma}} + \\frac{H \\left(r \\left(\\theta_{r} - 1\\right) + 1\\right)}{\\left(- r + 1\\right)^{\\alpha}} - \\frac{R a_{1}}{\\left(- r + 1\\right)^{\\beta}}$$"
      ],
      "text/plain": [
       "            -γ             -α                                 -β\n",
       "- F⋅(-r + 1)   + H⋅(-r + 1)  ⋅(r⋅(θᵣ - 1) + 1) - R⋅a₁⋅(-r + 1)  "
      ]
     },
     "execution_count": 4,
     "metadata": {},
     "output_type": "execute_result"
    }
   ],
   "source": [
    "utility_i = tools.utility(0, 1)\n",
    "utility_i"
   ]
  },
  {
   "cell_type": "markdown",
   "metadata": {},
   "source": [
    "We have argued that $H(-r + 1)(-r + 1)^{-a}$ is greater than $H(r(\\theta_r -1) + 1)(-r + 1)^{-a}$"
   ]
  },
  {
   "cell_type": "code",
   "execution_count": 5,
   "metadata": {
    "collapsed": true
   },
   "outputs": [],
   "source": [
    "r, theta_r = sym.symbols(\"r, theta_r\", positive=True)"
   ]
  },
  {
   "cell_type": "markdown",
   "metadata": {},
   "source": [
    "but $(-r + 1)$ is smaller than $r(\\theta_r -1) + 1)$"
   ]
  },
  {
   "cell_type": "code",
   "execution_count": 6,
   "metadata": {
    "collapsed": true
   },
   "outputs": [],
   "source": [
    "lhs = -r + 1\n",
    "rhs = (r * (theta_r - 1) + 1)"
   ]
  },
  {
   "cell_type": "code",
   "execution_count": 7,
   "metadata": {
    "collapsed": false
   },
   "outputs": [
    {
     "data": {
      "image/png": "[encoded data removed]",
      "text/latex": [
       "$$r \\theta_{r} - r + 1$$"
      ],
      "text/plain": [
       "r⋅θᵣ - r + 1"
      ]
     },
     "execution_count": 7,
     "metadata": {},
     "output_type": "execute_result"
    }
   ],
   "source": [
    "rhs.expand()"
   ]
  },
  {
   "cell_type": "code",
   "execution_count": 8,
   "metadata": {
    "collapsed": false
   },
   "outputs": [
    {
     "data": {
      "image/png": "[encoded data removed]",
      "text/latex": [
       "$$- r \\theta_{r}$$"
      ],
      "text/plain": [
       "-r⋅θᵣ"
      ]
     },
     "execution_count": 8,
     "metadata": {},
     "output_type": "execute_result"
    }
   ],
   "source": [
    "(lhs - rhs).simplify()"
   ]
  },
  {
   "cell_type": "markdown",
   "metadata": {},
   "source": [
    "A Numerical example\n",
    "-------------------"
   ]
  },
  {
   "cell_type": "code",
   "execution_count": 9,
   "metadata": {
    "collapsed": true
   },
   "outputs": [],
   "source": [
    "s, x, alpha, H, R, a1, beta, gamma, F = sym.symbols(\"s, x, alpha, H, R, a1, beta, gamma, F\",\n",
    "                                                    positive=True)"
   ]
  },
  {
   "cell_type": "code",
   "execution_count": 11,
   "metadata": {
    "collapsed": true
   },
   "outputs": [],
   "source": [
    "# some values for the parameters\n",
    "gamma_num = 1\n",
    "beta_num = .95\n",
    "alpha_num = .95 \n",
    "theta_r_num = .2  # Quantity of horn in devalued Rhino\n",
    "F_num = 10\n",
    "R_num = 1\n",
    "a1_num = 7\n",
    "H_num = 100"
   ]
  },
  {
   "cell_type": "code",
   "execution_count": 12,
   "metadata": {
    "collapsed": false
   },
   "outputs": [],
   "source": [
    "variables = {gamma: gamma_num, beta: beta_num, alpha: alpha_num, \n",
    "             theta_r:theta_r_num, F: F_num, R: R_num, a1: a1_num, H: H_num, r:.97}"
   ]
  },
  {
   "cell_type": "code",
   "execution_count": 13,
   "metadata": {
    "collapsed": false
   },
   "outputs": [
    {
     "data": {
      "image/png": "[encoded data removed]",
      "text/latex": [
       "$$45.9454541496045$$"
      ],
      "text/plain": [
       "45.9454541496045"
      ]
     },
     "execution_count": 13,
     "metadata": {},
     "output_type": "execute_result"
    }
   ],
   "source": [
    "utility_s.subs(variables)"
   ]
  },
  {
   "cell_type": "code",
   "execution_count": 14,
   "metadata": {
    "collapsed": false
   },
   "outputs": [
    {
     "data": {
      "image/png": "[encoded data removed]",
      "text/latex": [
       "$$97.4466636186211$$"
      ],
      "text/plain": [
       "97.4466636186211"
      ]
     },
     "execution_count": 14,
     "metadata": {},
     "output_type": "execute_result"
    }
   ],
   "source": [
    "utility_i.subs(variables)"
   ]
  },
  {
   "cell_type": "code",
   "execution_count": 15,
   "metadata": {
    "collapsed": false
   },
   "outputs": [
    {
     "data": {
      "image/png": "[encoded data removed]",
      "text/latex": [
       "$$-51.5012094690166$$"
      ],
      "text/plain": [
       "-51.5012094690166"
      ]
     },
     "execution_count": 15,
     "metadata": {},
     "output_type": "execute_result"
    }
   ],
   "source": [
    "utility_s.subs(variables) - utility_i.subs(variables)"
   ]
  },
  {
   "cell_type": "markdown",
   "metadata": {},
   "source": [
    "In our numerical example let us identify the utility of all possible strategies, $s \\in [0, 1]$ for the population\n",
    "$\\chi = (1, 0)$. Thus were in our world everyone is selective. What we expect in order for the strategy\n",
    "$s = (1, 0)$ to be stable, thus being selective is stable, is that this strategy will have the highest utility"
   ]
  },
  {
   "cell_type": "code",
   "execution_count": 16,
   "metadata": {
    "collapsed": false
   },
   "outputs": [
    {
     "data": {
      "text/plain": [
       "[<matplotlib.lines.Line2D at 0x7fb02ed085f8>]"
      ]
     },
     "execution_count": 16,
     "metadata": {},
     "output_type": "execute_result"
    },
    {
     "data": {
      "image/png": "[encoded data removed]",
      "text/plain": [
       "<matplotlib.figure.Figure at 0x7fb05576ad68>"
      ]
     },
     "metadata": {},
     "output_type": "display_data"
    }
   ],
   "source": [
    "strategies = np.linspace(0, 1, 20)\n",
    "utilities = [tools.utility(s, 1).subs(variables) for s in strategies]\n",
    "plt.plot(strategies, utilities)"
   ]
  },
  {
   "cell_type": "markdown",
   "metadata": {},
   "source": [
    "$s = (1, 0)$ is not stable."
   ]
  },
  {
   "cell_type": "markdown",
   "metadata": {},
   "source": [
    "General case\n",
    "------------"
   ]
  },
  {
   "cell_type": "code",
   "execution_count": 17,
   "metadata": {
    "collapsed": false
   },
   "outputs": [
    {
     "data": {
      "image/png": "[encoded data removed]",
      "text/latex": [
       "$$R a_{1} - R$$"
      ],
      "text/plain": [
       "R⋅a₁ - R"
      ]
     },
     "execution_count": 17,
     "metadata": {},
     "output_type": "execute_result"
    }
   ],
   "source": [
    "delta = (utility_s - utility_i).simplify()\n",
    "delta.subs({r:0})"
   ]
  },
  {
   "cell_type": "code",
   "execution_count": 18,
   "metadata": {
    "collapsed": false
   },
   "outputs": [
    {
     "data": {
      "image/png": "[encoded data removed]",
      "text/latex": [
       "$$-\\infty$$"
      ],
      "text/plain": [
       "-∞"
      ]
     },
     "execution_count": 18,
     "metadata": {},
     "output_type": "execute_result"
    }
   ],
   "source": [
    "sym.limit(delta, r, 1)"
   ]
  },
  {
   "cell_type": "markdown",
   "metadata": {},
   "source": [
    "All selective is not stable."
   ]
  },
  {
   "cell_type": "markdown",
   "metadata": {},
   "source": [
    "# Stability of all indiscriminate"
   ]
  },
  {
   "cell_type": "code",
   "execution_count": 19,
   "metadata": {
    "collapsed": false
   },
   "outputs": [
    {
     "data": {
      "image/png": "[encoded data removed]",
      "text/latex": [
       "$$- F + \\frac{H \\left(r \\left(\\theta_{r} - 1\\right) + 1\\right)}{\\left(r \\left(\\theta_{r} - 1\\right) + 1\\right)^{\\alpha}} - \\frac{R a_{1}}{\\left(- r + 1\\right)^{\\beta}}$$"
      ],
      "text/plain": [
       "                                        -α                -β\n",
       "-F + H⋅(r⋅(θᵣ - 1) + 1)⋅(r⋅(θᵣ - 1) + 1)   - R⋅a₁⋅(-r + 1)  "
      ]
     },
     "execution_count": 19,
     "metadata": {},
     "output_type": "execute_result"
    }
   ],
   "source": [
    "utility_i = tools.utility(0, 0)\n",
    "utility_i"
   ]
  },
  {
   "cell_type": "code",
   "execution_count": 20,
   "metadata": {
    "collapsed": false
   },
   "outputs": [
    {
     "data": {
      "image/png": "[encoded data removed]",
      "text/latex": [
       "$$F \\left(r - 1\\right) + \\frac{H \\left(- r + 1\\right)}{\\left(r \\left(\\theta_{r} - 1\\right) + 1\\right)^{\\alpha}} - \\frac{R}{\\left(- r + 1\\right)^{\\beta}}$$"
      ],
      "text/plain": [
       "                                       -α             -β\n",
       "F⋅(r - 1) + H⋅(-r + 1)⋅(r⋅(θᵣ - 1) + 1)   - R⋅(-r + 1)  "
      ]
     },
     "execution_count": 20,
     "metadata": {},
     "output_type": "execute_result"
    }
   ],
   "source": [
    "utility_s = tools.utility(1, 0)\n",
    "utility_s"
   ]
  },
  {
   "cell_type": "markdown",
   "metadata": {},
   "source": [
    "General case\n",
    "------------"
   ]
  },
  {
   "cell_type": "code",
   "execution_count": 21,
   "metadata": {
    "collapsed": false
   },
   "outputs": [
    {
     "data": {
      "image/png": "[encoded data removed]",
      "text/latex": [
       "$$- R a_{1} + R$$"
      ],
      "text/plain": [
       "-R⋅a₁ + R"
      ]
     },
     "execution_count": 21,
     "metadata": {},
     "output_type": "execute_result"
    }
   ],
   "source": [
    "delta = (utility_i - utility_s).simplify()\n",
    "delta.subs({r:0})"
   ]
  },
  {
   "cell_type": "code",
   "execution_count": 22,
   "metadata": {
    "collapsed": false
   },
   "outputs": [
    {
     "data": {
      "image/png": "[encoded data removed]",
      "text/latex": [
       "$$- \\infty \\operatorname{sign}{\\left (R a_{1} - R \\right )}$$"
      ],
      "text/plain": [
       "-∞⋅sign(R⋅a₁ - R)"
      ]
     },
     "execution_count": 22,
     "metadata": {},
     "output_type": "execute_result"
    }
   ],
   "source": [
    "sym.limit(delta, r, 1)"
   ]
  },
  {
   "cell_type": "markdown",
   "metadata": {},
   "source": [
    "A Numerical experiment\n",
    "----------------------"
   ]
  },
  {
   "cell_type": "code",
   "execution_count": 23,
   "metadata": {
    "collapsed": false
   },
   "outputs": [
    {
     "data": {
      "image/png": "[encoded data removed]",
      "text/latex": [
       "$$-113.016690939163$$"
      ],
      "text/plain": [
       "-113.016690939163"
      ]
     },
     "execution_count": 23,
     "metadata": {},
     "output_type": "execute_result"
    }
   ],
   "source": [
    "utility_i.subs(variables)"
   ]
  },
  {
   "cell_type": "code",
   "execution_count": 24,
   "metadata": {
    "collapsed": false
   },
   "outputs": [
    {
     "data": {
      "image/png": "[encoded data removed]",
      "text/latex": [
       "$$-15.8451736929558$$"
      ],
      "text/plain": [
       "-15.8451736929558"
      ]
     },
     "execution_count": 24,
     "metadata": {},
     "output_type": "execute_result"
    }
   ],
   "source": [
    "utility_s.subs(variables)"
   ]
  },
  {
   "cell_type": "code",
   "execution_count": 25,
   "metadata": {
    "collapsed": false,
    "scrolled": true
   },
   "outputs": [
    {
     "data": {
      "text/plain": [
       "[<matplotlib.lines.Line2D at 0x7fb02ea42048>]"
      ]
     },
     "execution_count": 25,
     "metadata": {},
     "output_type": "execute_result"
    },
    {
     "data": {
      "image/png": "[encoded data removed]",
      "text/plain": [
       "<matplotlib.figure.Figure at 0x7fb02eaf49b0>"
      ]
     },
     "metadata": {},
     "output_type": "display_data"
    }
   ],
   "source": [
    "strategies = np.linspace(0, 1, 20)\n",
    "utilities = [tools.utility(s, 0).subs(variables) for s in strategies]\n",
    "plt.plot(strategies, utilities)"
   ]
  },
  {
   "cell_type": "markdown",
   "metadata": {},
   "source": [
    "Thus $s=(1, 0)$ and $s=(0, 1)$ are not stable."
   ]
  },
  {
   "cell_type": "markdown",
   "metadata": {
    "collapsed": true
   },
   "source": [
    "Stability of mixed strategy\n",
    "---------------------------"
   ]
  },
  {
   "cell_type": "code",
   "execution_count": 29,
   "metadata": {
    "collapsed": false
   },
   "outputs": [
    {
     "data": {
      "image/png": "[encoded data removed]",
      "text/latex": [
       "$$\\frac{F r}{\\left(- r s + 1\\right)^{\\gamma}} - \\frac{H r \\theta_{r}}{\\left(- r s \\theta_{r} + r \\theta_{r} - r + 1\\right)^{\\alpha}} + \\frac{R a_{1}}{\\left(- r + 1\\right)^{\\beta}} - \\frac{R}{\\left(- r + 1\\right)^{\\beta}} = 0$$"
      ],
      "text/plain": [
       "              -γ                                  -α                -β        \n",
       "F⋅r⋅(-r⋅s + 1)   - H⋅r⋅θᵣ⋅(-r⋅s⋅θᵣ + r⋅θᵣ - r + 1)   + R⋅a₁⋅(-r + 1)   - R⋅(-r\n",
       "\n",
       "     -β    \n",
       " + 1)   = 0"
      ]
     },
     "execution_count": 29,
     "metadata": {},
     "output_type": "execute_result"
    }
   ],
   "source": [
    "expr = tools.utility(1, s) - tools.utility(0, s)\n",
    "stable_mixed_condition = sym.Eq(expr.simplify(), 0)\n",
    "stable_mixed_condition"
   ]
  },
  {
   "cell_type": "code",
   "execution_count": 50,
   "metadata": {
    "collapsed": false
   },
   "outputs": [],
   "source": [
    "# some values for the parameters\n",
    "gamma_num = 1\n",
    "beta_num = .95\n",
    "alpha_num = .95 \n",
    "theta_r_num = 0.2  # Quantity of horn in devalued Rhino\n",
    "F_num = 10\n",
    "R_num = 1\n",
    "a1_num = 7\n",
    "H_num = 100"
   ]
  },
  {
   "cell_type": "code",
   "execution_count": 51,
   "metadata": {
    "collapsed": false
   },
   "outputs": [],
   "source": [
    "variables = {gamma: gamma_num, beta: beta_num, alpha: alpha_num, \n",
    "             theta_r:theta_r_num, F: F_num, R: R_num, a1: a1_num, H: H_num,}"
   ]
  },
  {
   "cell_type": "code",
   "execution_count": 52,
   "metadata": {
    "collapsed": false
   },
   "outputs": [],
   "source": [
    "def s_star_v_r(r_val, gamma_num=gamma_num, beta_num=beta_num, \n",
    "               alpha_num=alpha_num, theta_r_num=theta_r_num, \n",
    "               F_num=F_num, R_num=R_num, a1_num=a1_num, \n",
    "               H_num=H_num, stable_mixed_condition=stable_mixed_condition):\n",
    "    \"\"\"\n",
    "    Numerically solve the condition for mixed \n",
    "    strategy stability for a given value of r.\n",
    "    \"\"\"\n",
    "    variables = {gamma: gamma_num, beta: beta_num, alpha: alpha_num, theta_r:                                                     theta_r_num, F: F_num, R: R_num, a1: a1_num, H: H_num,\n",
    "                 r:r_val}\n",
    "    condition = stable_mixed_condition.lhs.subs(variables)\n",
    "    func = lambda x: condition.subs({s: x})\n",
    "\n",
    "    try:\n",
    "        return brentq(func, a=0, b=1)\n",
    "    except ValueError:\n",
    "        return float(\"nan\")"
   ]
  },
  {
   "cell_type": "code",
   "execution_count": 53,
   "metadata": {
    "collapsed": false
   },
   "outputs": [
    {
     "data": {
      "image/png": "[encoded data removed]",
      "text/latex": [
       "$$- \\frac{1}{\\left(- r + 1\\right)^{\\beta} \\left(- r s + 1\\right)^{\\gamma} \\left(- r s \\theta_{r} + r \\theta_{r} - r + 1\\right)^{\\alpha}} \\left(- F r \\left(- r + 1\\right)^{\\beta} \\left(- r s \\theta_{r} + r \\theta_{r} - r + 1\\right)^{\\alpha} + H r \\theta_{r} \\left(- r + 1\\right)^{\\beta} \\left(- r s + 1\\right)^{\\gamma} - R a_{1} \\left(- r s + 1\\right)^{\\gamma} \\left(- r s \\theta_{r} + r \\theta_{r} - r + 1\\right)^{\\alpha} + R \\left(- r s + 1\\right)^{\\gamma} \\left(- r s \\theta_{r} + r \\theta_{r} - r + 1\\right)^{\\alpha}\\right) = 0$$"
      ],
      "text/plain": [
       "         -β           -γ                         -α ⎛              β          \n",
       "-(-r + 1)  ⋅(-r⋅s + 1)  ⋅(-r⋅s⋅θᵣ + r⋅θᵣ - r + 1)  ⋅⎝- F⋅r⋅(-r + 1) ⋅(-r⋅s⋅θᵣ \n",
       "\n",
       "               α                  β           γ                  γ            \n",
       "+ r⋅θᵣ - r + 1)  + H⋅r⋅θᵣ⋅(-r + 1) ⋅(-r⋅s + 1)  - R⋅a₁⋅(-r⋅s + 1) ⋅(-r⋅s⋅θᵣ + \n",
       "\n",
       "             α               γ                         α⎞    \n",
       "r⋅θᵣ - r + 1)  + R⋅(-r⋅s + 1) ⋅(-r⋅s⋅θᵣ + r⋅θᵣ - r + 1) ⎠ = 0"
      ]
     },
     "execution_count": 53,
     "metadata": {},
     "output_type": "execute_result"
    }
   ],
   "source": [
    "stable_mixed_condition.factor()"
   ]
  },
  {
   "cell_type": "code",
   "execution_count": 54,
   "metadata": {
    "collapsed": false
   },
   "outputs": [
    {
     "data": {
      "text/plain": [
       "[<matplotlib.lines.Line2D at 0x7fb02e6da518>]"
      ]
     },
     "execution_count": 54,
     "metadata": {},
     "output_type": "execute_result"
    },
    {
     "data": {
      "image/png": "[encoded data removed]",
      "text/plain": [
       "<matplotlib.figure.Figure at 0x7fb02ec19128>"
      ]
     },
     "metadata": {},
     "output_type": "display_data"
    }
   ],
   "source": [
    "rs = np.linspace(0.001, .999, 100)\n",
    "s_stars = [s_star_v_r(r_val=r) for r in rs]\n",
    "plt.plot(rs, s_stars)"
   ]
  },
  {
   "cell_type": "code",
   "execution_count": 58,
   "metadata": {
    "collapsed": false
   },
   "outputs": [
    {
     "data": {
      "image/png": "[encoded data removed]",
      "text/plain": [
       "<matplotlib.figure.Figure at 0x7fb02e447e10>"
      ]
     },
     "metadata": {},
     "output_type": "display_data"
    }
   ],
   "source": [
    "fig = plt.figure(figsize=(10, 5))\n",
    "for phis in [*np.linspace(0, 1, 10)]:\n",
    "    rs = np.linspace(0.001, .999, 1000)\n",
    "    s_stars = [s_star_v_r(r, F_num=phis) for r in rs]\n",
    "    plt.plot(rs, s_stars, label=r'$F=${}'.format(phis))\n",
    "    \n",
    "    plt.legend()"
   ]
  },
  {
   "cell_type": "code",
   "execution_count": null,
   "metadata": {
    "collapsed": true
   },
   "outputs": [],
   "source": []
  }
 ],
 "metadata": {
  "anaconda-cloud": {},
  "kernelspec": {
   "display_name": "Python [conda env:rhino]",
   "language": "python",
   "name": "conda-env-rhino-py"
  },
  "language_info": {
   "codemirror_mode": {
    "name": "ipython",
    "version": 3
   },
   "file_extension": ".py",
   "mimetype": "text/x-python",
   "name": "python",
   "nbconvert_exporter": "python",
   "pygments_lexer": "ipython3",
   "version": "3.6.1"
  }
 },
 "nbformat": 4,
 "nbformat_minor": 1
}
